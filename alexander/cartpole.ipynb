{
 "cells": [
  {
   "cell_type": "code",
   "execution_count": 29,
   "id": "ca16ee3c-35b5-4b49-8127-b8b5725e169c",
   "metadata": {},
   "outputs": [
    {
     "name": "stdout",
     "output_type": "stream",
     "text": [
      "The autoreload extension is already loaded. To reload it, use:\n",
      "  %reload_ext autoreload\n"
     ]
    }
   ],
   "source": [
    "%load_ext autoreload\n",
    "%autoreload 2\n",
    "\n",
    "import os\n",
    "import sys\n",
    "\n",
    "module_path = os.path.abspath(os.path.join(\"../\"))\n",
    "if module_path not in sys.path:\n",
    "    sys.path.append(module_path)"
   ]
  },
  {
   "cell_type": "code",
   "execution_count": 16,
   "id": "fedf7f20-ac56-48a2-bf85-6910ced22eaa",
   "metadata": {},
   "outputs": [],
   "source": [
    "import gym\n",
    "import matplotlib.pyplot as plt\n",
    "from dacite import from_dict\n",
    "from dqn.buffer import ReplayBuffer\n",
    "from dqn.func_q_learning import DQN, Epsilon, QLearningCongfig, train_dqn\n",
    "from dqn.q_agent import Agent"
   ]
  },
  {
   "cell_type": "code",
   "execution_count": 17,
   "id": "23117d75-984e-4e75-9a20-ddbe128349cb",
   "metadata": {},
   "outputs": [
    {
     "name": "stdout",
     "output_type": "stream",
     "text": [
      "Discrete(2)\n",
      "Box([-4.8000002e+00 -3.4028235e+38 -4.1887903e-01 -3.4028235e+38], [4.8000002e+00 3.4028235e+38 4.1887903e-01 3.4028235e+38], (4,), float32)\n",
      "{'render.modes': ['human', 'rgb_array'], 'video.frames_per_second': 50}\n"
     ]
    }
   ],
   "source": [
    "cartpole = gym.make(\"CartPole-v1\")\n",
    "print(cartpole.action_space)\n",
    "print(cartpole.observation_space)\n",
    "print(cartpole.env.metadata)"
   ]
  },
  {
   "cell_type": "code",
   "execution_count": 18,
   "id": "02202fc4-69b0-4512-9c31-1b8dee1ba515",
   "metadata": {},
   "outputs": [
    {
     "name": "stderr",
     "output_type": "stream",
     "text": [
      "100%|███████████████████████████████████████████████████| 500/500 [00:00<00:00, 3149.34it/s]\n"
     ]
    },
    {
     "data": {
      "text/plain": [
       "10000"
      ]
     },
     "execution_count": 18,
     "metadata": {},
     "output_type": "execute_result"
    }
   ],
   "source": [
    "memory = ReplayBuffer(10000)\n",
    "memory.populate(cartpole, num_episodes=500, steps_per_episode=500, action_size=2)\n",
    "\n",
    "len(memory)"
   ]
  },
  {
   "cell_type": "code",
   "execution_count": 48,
   "id": "83c1057d-304d-441e-8b15-c76a07a792e6",
   "metadata": {},
   "outputs": [],
   "source": [
    "state, action, reward, done, new_state = memory.sample(1)"
   ]
  },
  {
   "cell_type": "code",
   "execution_count": 49,
   "id": "93f42643-7d18-412b-b55d-aa2d186250bf",
   "metadata": {},
   "outputs": [],
   "source": [
    "action_size = 2\n",
    "obs_size = len(state[0])"
   ]
  },
  {
   "cell_type": "code",
   "execution_count": 50,
   "id": "b69ccca3-de93-42fa-a303-c90862268b5d",
   "metadata": {},
   "outputs": [],
   "source": [
    "agent = Agent(patient=cartpole, action_size=2)"
   ]
  },
  {
   "cell_type": "code",
   "execution_count": 51,
   "id": "a9ca0820-92de-4222-8e24-246eb272be50",
   "metadata": {},
   "outputs": [],
   "source": [
    "policy_net = DQN(obs_size, action_size)\n",
    "target_net = DQN(obs_size, action_size)"
   ]
  },
  {
   "cell_type": "code",
   "execution_count": 73,
   "id": "f1ea5e87-4b70-462a-a0dc-eeda67533241",
   "metadata": {},
   "outputs": [],
   "source": [
    "q_conf_dict = {\n",
    "    \"gamma\": 0.99,\n",
    "    \"batch_size\": 256,\n",
    "    \"learning_rate\": 0.0001,\n",
    "    \"num_episodes\": 5000,\n",
    "    \"steps_per_episode\": 500,\n",
    "    \"target_update_rate\": 200,\n",
    "}\n",
    "eps_conf_dict = {\n",
    "    \"max\": 1,\n",
    "    \"min\": 0.1,\n",
    "    \"delay\": 200,\n",
    "}"
   ]
  },
  {
   "cell_type": "code",
   "execution_count": 74,
   "id": "e6a3254f-af96-4c22-b259-25e23d802bf3",
   "metadata": {},
   "outputs": [],
   "source": [
    "q_conf = from_dict(data_class=QLearningCongfig, data=q_conf_dict)\n",
    "eps_conf = from_dict(data_class=Epsilon, data=eps_conf_dict)"
   ]
  },
  {
   "cell_type": "code",
   "execution_count": 75,
   "id": "4faa533b-a2cf-498e-8a12-18e65a633920",
   "metadata": {},
   "outputs": [
    {
     "name": "stderr",
     "output_type": "stream",
     "text": [
      "100%|██████████████████████████████████████████████| 5000/5000 [03:18<00:00, 25.25episode/s]\n"
     ]
    }
   ],
   "source": [
    "rewards, losses, epsilons = train_dqn(\n",
    "    patient=cartpole,\n",
    "    memory=memory,\n",
    "    agent=agent,\n",
    "    policy_net=policy_net,\n",
    "    target_net=target_net,\n",
    "    q_conf=q_conf,\n",
    "    eps_conf=eps_conf,\n",
    ")"
   ]
  },
  {
   "cell_type": "code",
   "execution_count": 79,
   "id": "7dcfcd3e-1405-4f88-870e-540027839983",
   "metadata": {},
   "outputs": [
    {
     "data": {
      "text/plain": [
       "[<matplotlib.lines.Line2D at 0x7fb7cffc47c0>]"
      ]
     },
     "execution_count": 79,
     "metadata": {},
     "output_type": "execute_result"
    },
    {
     "data": {
      "image/png": "[encoded data removed]",
      "text/plain": [
       "<Figure size 432x288 with 1 Axes>"
      ]
     },
     "metadata": {
      "needs_background": "light"
     },
     "output_type": "display_data"
    }
   ],
   "source": [
    "plt.plot(rewards)"
   ]
  },
  {
   "cell_type": "code",
   "execution_count": 80,
   "id": "44149432-8f5a-4abb-b7d0-457a7ee25798",
   "metadata": {},
   "outputs": [
    {
     "data": {
      "text/plain": [
       "[<matplotlib.lines.Line2D at 0x7fb7cff8d400>]"
      ]
     },
     "execution_count": 80,
     "metadata": {},
     "output_type": "execute_result"
    },
    {
     "data": {
      "image/png": "[encoded data removed]",
      "text/plain": [
       "<Figure size 432x288 with 1 Axes>"
      ]
     },
     "metadata": {
      "needs_background": "light"
     },
     "output_type": "display_data"
    }
   ],
   "source": [
    "plt.plot(losses)"
   ]
  },
  {
   "cell_type": "code",
   "execution_count": 81,
   "id": "7132c0ca-dba6-4d2a-a543-f7afe7a80c82",
   "metadata": {},
   "outputs": [
    {
     "data": {
      "text/plain": [
       "[<matplotlib.lines.Line2D at 0x7fb7cff769a0>]"
      ]
     },
     "execution_count": 81,
     "metadata": {},
     "output_type": "execute_result"
    },
    {
     "data": {
      "image/png": "[encoded data removed]",
      "text/plain": [
       "<Figure size 432x288 with 1 Axes>"
      ]
     },
     "metadata": {
      "needs_background": "light"
     },
     "output_type": "display_data"
    }
   ],
   "source": [
    "plt.plot(epsilons)"
   ]
  },
  {
   "cell_type": "code",
   "execution_count": null,
   "id": "e8d92fb7-3d70-40e2-abee-80a7eb0b0fdf",
   "metadata": {},
   "outputs": [],
   "source": []
  }
 ],
 "metadata": {
  "kernelspec": {
   "display_name": "Python 3 (ipykernel)",
   "language": "python",
   "name": "python3"
  },
  "language_info": {
   "codemirror_mode": {
    "name": "ipython",
    "version": 3
   },
   "file_extension": ".py",
   "mimetype": "text/x-python",
   "name": "python",
   "nbconvert_exporter": "python",
   "pygments_lexer": "ipython3",
   "version": "3.8.12"
  }
 },
 "nbformat": 4,
 "nbformat_minor": 5
}
