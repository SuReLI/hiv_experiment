{
 "cells": [
  {
   "cell_type": "code",
   "execution_count": 1,
   "id": "807cf48b",
   "metadata": {},
   "outputs": [],
   "source": [
    "import numpy as np\n",
    "import matplotlib.pyplot as plt\n",
    "%matplotlib inline\n",
    "from tqdm import tqdm"
   ]
  },
  {
   "cell_type": "code",
   "execution_count": 2,
   "id": "9b7a9e26",
   "metadata": {},
   "outputs": [],
   "source": [
    "from hiv_patient import HIVPatient\n",
    "from buffer import Buffer"
   ]
  },
  {
   "cell_type": "markdown",
   "id": "1de75f3f",
   "metadata": {},
   "source": [
    "### Create dataset"
   ]
  },
  {
   "cell_type": "code",
   "execution_count": 3,
   "id": "5fa58b28",
   "metadata": {},
   "outputs": [],
   "source": [
    "patient = HIVPatient(clipping=False,logscale=False)"
   ]
  },
  {
   "cell_type": "code",
   "execution_count": 4,
   "id": "72fa45a1",
   "metadata": {},
   "outputs": [],
   "source": [
    "FQI_buffer = Buffer(50000)\n"
   ]
  },
  {
   "cell_type": "code",
   "execution_count": 5,
   "id": "b1141551",
   "metadata": {},
   "outputs": [
    {
     "name": "stderr",
     "output_type": "stream",
     "text": [
      "100%|██████████| 30/30 [08:28<00:00, 16.96s/it]\n"
     ]
    }
   ],
   "source": [
    "for j in tqdm(range(30)):\n",
    "    s = patient.reset(mode=\"unhealthy\")\n",
    "    for i in range(200):\n",
    "        a = np.random.choice(4)\n",
    "        s_, r, d, _ = patient.step(a)\n",
    "        FQI_buffer.append(s,a,r,s_,d)\n",
    "        s = s_\n",
    "\n"
   ]
  },
  {
   "cell_type": "markdown",
   "id": "12afb47b",
   "metadata": {},
   "source": [
    "### FQI "
   ]
  },
  {
   "cell_type": "code",
   "execution_count": 6,
   "id": "2ac9ae52",
   "metadata": {},
   "outputs": [],
   "source": [
    "from sklearn.ensemble import RandomForestRegressor"
   ]
  },
  {
   "cell_type": "code",
   "execution_count": 7,
   "id": "7daa5f85",
   "metadata": {},
   "outputs": [],
   "source": [
    "from typing import Optional,List, Callable\n",
    "from sklearn.base import BaseEstimator\n",
    "\n",
    "def estimator_factory(*args, **kwargs):\n",
    "    return RandomForestRegressor(*args, **kwargs)\n",
    "\n",
    "\n",
    "def update(memory : Buffer,\n",
    "    gamma : float = 0.98,\n",
    "    estimator : Optional[BaseEstimator] = None,\n",
    "    estimator_factory: Callable = estimator_factory):\n",
    "\n",
    "    states, actions, rewards, next_state, done  = memory.get()\n",
    "    actions = np.expand_dims(actions,axis=1)\n",
    "    target = np.expand_dims(rewards,axis=1)\n",
    "    #target = rewards\n",
    "\n",
    "    if estimator is not None:\n",
    "        q_values = np.zeros((len(rewards),4))\n",
    "        for a in range(4):\n",
    "            actions_ = a*np.ones((len(rewards),1))\n",
    "            X = np.concatenate((next_state,actions_),axis=1)\n",
    "            q_values[:,a] = estimator.predict(X)\n",
    "            \n",
    "        #print(f\"q_values --> {q_values}\")\n",
    "        qmax = np.expand_dims(np.max(q_values,axis=1),axis=1)\n",
    "        #print(f\"Shape de qmax --> {qmax.shape}, Shape de target --> {target.shape}, Shape de done --> {done.shape}\")\n",
    "        target += gamma*qmax * (1 - np.expand_dims(done,axis=1))\n",
    "        #print(f\"Shape de target --> {target.shape}\")\n",
    "\n",
    "    if estimator is None:\n",
    "        estimator = estimator_factory()\n",
    "\n",
    "\n",
    "    #print(f\"States shape --> {states.shape}, actions shape --> {actions.shape},target{target.shape}\")\n",
    "    data = np.concatenate((states,actions),axis=1)\n",
    "    #print(f\"Data shape --> {data.shape}\")\n",
    "    estimator.fit(data,target)\n",
    "\n",
    "\n",
    "    return estimator\n",
    "\n",
    "\n",
    "\n",
    "\n"
   ]
  },
  {
   "cell_type": "markdown",
   "id": "213b7727",
   "metadata": {},
   "source": [
    "### Premier entraînement !"
   ]
  },
  {
   "cell_type": "code",
   "execution_count": 8,
   "id": "e2500b2f",
   "metadata": {},
   "outputs": [
    {
     "name": "stderr",
     "output_type": "stream",
     "text": [
      "  0%|          | 0/100 [00:00<?, ?it/s]/tmp/ipykernel_1097/1251894869.py:38: DataConversionWarning: A column-vector y was passed when a 1d array was expected. Please change the shape of y to (n_samples,), for example using ravel().\n",
      "  estimator.fit(data,target)\n",
      "  1%|          | 1/100 [00:03<06:22,  3.86s/it]/tmp/ipykernel_1097/1251894869.py:38: DataConversionWarning: A column-vector y was passed when a 1d array was expected. Please change the shape of y to (n_samples,), for example using ravel().\n",
      "  estimator.fit(data,target)\n",
      "  2%|▏         | 2/100 [00:08<06:44,  4.12s/it]/tmp/ipykernel_1097/1251894869.py:38: DataConversionWarning: A column-vector y was passed when a 1d array was expected. Please change the shape of y to (n_samples,), for example using ravel().\n",
      "  estimator.fit(data,target)\n",
      "  3%|▎         | 3/100 [00:13<07:14,  4.48s/it]/tmp/ipykernel_1097/1251894869.py:38: DataConversionWarning: A column-vector y was passed when a 1d array was expected. Please change the shape of y to (n_samples,), for example using ravel().\n",
      "  estimator.fit(data,target)\n",
      "  4%|▍         | 4/100 [00:17<07:03,  4.41s/it]/tmp/ipykernel_1097/1251894869.py:38: DataConversionWarning: A column-vector y was passed when a 1d array was expected. Please change the shape of y to (n_samples,), for example using ravel().\n",
      "  estimator.fit(data,target)\n",
      "  5%|▌         | 5/100 [00:21<06:49,  4.31s/it]/tmp/ipykernel_1097/1251894869.py:38: DataConversionWarning: A column-vector y was passed when a 1d array was expected. Please change the shape of y to (n_samples,), for example using ravel().\n",
      "  estimator.fit(data,target)\n",
      "  6%|▌         | 6/100 [00:25<06:43,  4.29s/it]/tmp/ipykernel_1097/1251894869.py:38: DataConversionWarning: A column-vector y was passed when a 1d array was expected. Please change the shape of y to (n_samples,), for example using ravel().\n",
      "  estimator.fit(data,target)\n",
      "  7%|▋         | 7/100 [00:30<06:39,  4.29s/it]/tmp/ipykernel_1097/1251894869.py:38: DataConversionWarning: A column-vector y was passed when a 1d array was expected. Please change the shape of y to (n_samples,), for example using ravel().\n",
      "  estimator.fit(data,target)\n",
      "  8%|▊         | 8/100 [00:34<06:42,  4.38s/it]/tmp/ipykernel_1097/1251894869.py:38: DataConversionWarning: A column-vector y was passed when a 1d array was expected. Please change the shape of y to (n_samples,), for example using ravel().\n",
      "  estimator.fit(data,target)\n",
      "  9%|▉         | 9/100 [00:39<06:58,  4.60s/it]/tmp/ipykernel_1097/1251894869.py:38: DataConversionWarning: A column-vector y was passed when a 1d array was expected. Please change the shape of y to (n_samples,), for example using ravel().\n",
      "  estimator.fit(data,target)\n",
      " 10%|█         | 10/100 [00:45<07:27,  4.98s/it]/tmp/ipykernel_1097/1251894869.py:38: DataConversionWarning: A column-vector y was passed when a 1d array was expected. Please change the shape of y to (n_samples,), for example using ravel().\n",
      "  estimator.fit(data,target)\n",
      " 11%|█         | 11/100 [00:49<07:01,  4.74s/it]/tmp/ipykernel_1097/1251894869.py:38: DataConversionWarning: A column-vector y was passed when a 1d array was expected. Please change the shape of y to (n_samples,), for example using ravel().\n",
      "  estimator.fit(data,target)\n",
      " 12%|█▏        | 12/100 [00:55<07:14,  4.94s/it]/tmp/ipykernel_1097/1251894869.py:38: DataConversionWarning: A column-vector y was passed when a 1d array was expected. Please change the shape of y to (n_samples,), for example using ravel().\n",
      "  estimator.fit(data,target)\n",
      " 13%|█▎        | 13/100 [00:59<06:45,  4.66s/it]/tmp/ipykernel_1097/1251894869.py:38: DataConversionWarning: A column-vector y was passed when a 1d array was expected. Please change the shape of y to (n_samples,), for example using ravel().\n",
      "  estimator.fit(data,target)\n",
      " 14%|█▍        | 14/100 [01:03<06:31,  4.55s/it]/tmp/ipykernel_1097/1251894869.py:38: DataConversionWarning: A column-vector y was passed when a 1d array was expected. Please change the shape of y to (n_samples,), for example using ravel().\n",
      "  estimator.fit(data,target)\n",
      " 15%|█▌        | 15/100 [01:07<06:12,  4.38s/it]/tmp/ipykernel_1097/1251894869.py:38: DataConversionWarning: A column-vector y was passed when a 1d array was expected. Please change the shape of y to (n_samples,), for example using ravel().\n",
      "  estimator.fit(data,target)\n",
      " 16%|█▌        | 16/100 [01:11<06:03,  4.33s/it]/tmp/ipykernel_1097/1251894869.py:38: DataConversionWarning: A column-vector y was passed when a 1d array was expected. Please change the shape of y to (n_samples,), for example using ravel().\n",
      "  estimator.fit(data,target)\n",
      " 17%|█▋        | 17/100 [01:15<05:58,  4.33s/it]/tmp/ipykernel_1097/1251894869.py:38: DataConversionWarning: A column-vector y was passed when a 1d array was expected. Please change the shape of y to (n_samples,), for example using ravel().\n",
      "  estimator.fit(data,target)\n",
      " 18%|█▊        | 18/100 [01:20<06:06,  4.48s/it]/tmp/ipykernel_1097/1251894869.py:38: DataConversionWarning: A column-vector y was passed when a 1d array was expected. Please change the shape of y to (n_samples,), for example using ravel().\n",
      "  estimator.fit(data,target)\n",
      " 19%|█▉        | 19/100 [01:27<06:53,  5.11s/it]/tmp/ipykernel_1097/1251894869.py:38: DataConversionWarning: A column-vector y was passed when a 1d array was expected. Please change the shape of y to (n_samples,), for example using ravel().\n",
      "  estimator.fit(data,target)\n",
      " 20%|██        | 20/100 [01:31<06:31,  4.90s/it]/tmp/ipykernel_1097/1251894869.py:38: DataConversionWarning: A column-vector y was passed when a 1d array was expected. Please change the shape of y to (n_samples,), for example using ravel().\n",
      "  estimator.fit(data,target)\n",
      " 21%|██        | 21/100 [01:35<06:08,  4.67s/it]/tmp/ipykernel_1097/1251894869.py:38: DataConversionWarning: A column-vector y was passed when a 1d array was expected. Please change the shape of y to (n_samples,), for example using ravel().\n",
      "  estimator.fit(data,target)\n",
      " 22%|██▏       | 22/100 [01:40<06:03,  4.65s/it]/tmp/ipykernel_1097/1251894869.py:38: DataConversionWarning: A column-vector y was passed when a 1d array was expected. Please change the shape of y to (n_samples,), for example using ravel().\n",
      "  estimator.fit(data,target)\n",
      " 23%|██▎       | 23/100 [01:46<06:37,  5.17s/it]/tmp/ipykernel_1097/1251894869.py:38: DataConversionWarning: A column-vector y was passed when a 1d array was expected. Please change the shape of y to (n_samples,), for example using ravel().\n",
      "  estimator.fit(data,target)\n",
      " 24%|██▍       | 24/100 [01:51<06:17,  4.97s/it]/tmp/ipykernel_1097/1251894869.py:38: DataConversionWarning: A column-vector y was passed when a 1d array was expected. Please change the shape of y to (n_samples,), for example using ravel().\n",
      "  estimator.fit(data,target)\n",
      " 25%|██▌       | 25/100 [01:56<06:06,  4.89s/it]/tmp/ipykernel_1097/1251894869.py:38: DataConversionWarning: A column-vector y was passed when a 1d array was expected. Please change the shape of y to (n_samples,), for example using ravel().\n",
      "  estimator.fit(data,target)\n",
      " 26%|██▌       | 26/100 [02:02<06:42,  5.44s/it]/tmp/ipykernel_1097/1251894869.py:38: DataConversionWarning: A column-vector y was passed when a 1d array was expected. Please change the shape of y to (n_samples,), for example using ravel().\n",
      "  estimator.fit(data,target)\n",
      " 27%|██▋       | 27/100 [02:08<06:39,  5.47s/it]/tmp/ipykernel_1097/1251894869.py:38: DataConversionWarning: A column-vector y was passed when a 1d array was expected. Please change the shape of y to (n_samples,), for example using ravel().\n",
      "  estimator.fit(data,target)\n",
      " 28%|██▊       | 28/100 [02:12<06:00,  5.00s/it]/tmp/ipykernel_1097/1251894869.py:38: DataConversionWarning: A column-vector y was passed when a 1d array was expected. Please change the shape of y to (n_samples,), for example using ravel().\n",
      "  estimator.fit(data,target)\n",
      " 29%|██▉       | 29/100 [02:18<06:20,  5.37s/it]/tmp/ipykernel_1097/1251894869.py:38: DataConversionWarning: A column-vector y was passed when a 1d array was expected. Please change the shape of y to (n_samples,), for example using ravel().\n",
      "  estimator.fit(data,target)\n",
      " 30%|███       | 30/100 [02:24<06:38,  5.69s/it]/tmp/ipykernel_1097/1251894869.py:38: DataConversionWarning: A column-vector y was passed when a 1d array was expected. Please change the shape of y to (n_samples,), for example using ravel().\n",
      "  estimator.fit(data,target)\n",
      " 31%|███       | 31/100 [02:29<06:13,  5.41s/it]/tmp/ipykernel_1097/1251894869.py:38: DataConversionWarning: A column-vector y was passed when a 1d array was expected. Please change the shape of y to (n_samples,), for example using ravel().\n",
      "  estimator.fit(data,target)\n",
      " 32%|███▏      | 32/100 [02:36<06:38,  5.86s/it]/tmp/ipykernel_1097/1251894869.py:38: DataConversionWarning: A column-vector y was passed when a 1d array was expected. Please change the shape of y to (n_samples,), for example using ravel().\n",
      "  estimator.fit(data,target)\n",
      " 33%|███▎      | 33/100 [02:40<05:50,  5.24s/it]/tmp/ipykernel_1097/1251894869.py:38: DataConversionWarning: A column-vector y was passed when a 1d array was expected. Please change the shape of y to (n_samples,), for example using ravel().\n",
      "  estimator.fit(data,target)\n",
      " 34%|███▍      | 34/100 [02:44<05:21,  4.87s/it]/tmp/ipykernel_1097/1251894869.py:38: DataConversionWarning: A column-vector y was passed when a 1d array was expected. Please change the shape of y to (n_samples,), for example using ravel().\n",
      "  estimator.fit(data,target)\n",
      " 35%|███▌      | 35/100 [02:49<05:13,  4.82s/it]/tmp/ipykernel_1097/1251894869.py:38: DataConversionWarning: A column-vector y was passed when a 1d array was expected. Please change the shape of y to (n_samples,), for example using ravel().\n",
      "  estimator.fit(data,target)\n",
      " 36%|███▌      | 36/100 [02:52<04:49,  4.52s/it]/tmp/ipykernel_1097/1251894869.py:38: DataConversionWarning: A column-vector y was passed when a 1d array was expected. Please change the shape of y to (n_samples,), for example using ravel().\n",
      "  estimator.fit(data,target)\n",
      " 37%|███▋      | 37/100 [02:57<04:50,  4.60s/it]/tmp/ipykernel_1097/1251894869.py:38: DataConversionWarning: A column-vector y was passed when a 1d array was expected. Please change the shape of y to (n_samples,), for example using ravel().\n",
      "  estimator.fit(data,target)\n",
      " 38%|███▊      | 38/100 [03:02<04:43,  4.58s/it]/tmp/ipykernel_1097/1251894869.py:38: DataConversionWarning: A column-vector y was passed when a 1d array was expected. Please change the shape of y to (n_samples,), for example using ravel().\n",
      "  estimator.fit(data,target)\n",
      " 39%|███▉      | 39/100 [03:06<04:35,  4.52s/it]/tmp/ipykernel_1097/1251894869.py:38: DataConversionWarning: A column-vector y was passed when a 1d array was expected. Please change the shape of y to (n_samples,), for example using ravel().\n",
      "  estimator.fit(data,target)\n",
      " 40%|████      | 40/100 [03:10<04:12,  4.21s/it]/tmp/ipykernel_1097/1251894869.py:38: DataConversionWarning: A column-vector y was passed when a 1d array was expected. Please change the shape of y to (n_samples,), for example using ravel().\n",
      "  estimator.fit(data,target)\n",
      " 41%|████      | 41/100 [03:13<03:57,  4.03s/it]/tmp/ipykernel_1097/1251894869.py:38: DataConversionWarning: A column-vector y was passed when a 1d array was expected. Please change the shape of y to (n_samples,), for example using ravel().\n",
      "  estimator.fit(data,target)\n",
      " 42%|████▏     | 42/100 [03:17<03:46,  3.90s/it]/tmp/ipykernel_1097/1251894869.py:38: DataConversionWarning: A column-vector y was passed when a 1d array was expected. Please change the shape of y to (n_samples,), for example using ravel().\n",
      "  estimator.fit(data,target)\n",
      " 43%|████▎     | 43/100 [03:21<03:47,  4.00s/it]/tmp/ipykernel_1097/1251894869.py:38: DataConversionWarning: A column-vector y was passed when a 1d array was expected. Please change the shape of y to (n_samples,), for example using ravel().\n",
      "  estimator.fit(data,target)\n",
      " 44%|████▍     | 44/100 [03:26<03:57,  4.24s/it]/tmp/ipykernel_1097/1251894869.py:38: DataConversionWarning: A column-vector y was passed when a 1d array was expected. Please change the shape of y to (n_samples,), for example using ravel().\n",
      "  estimator.fit(data,target)\n",
      " 45%|████▌     | 45/100 [03:30<03:54,  4.26s/it]/tmp/ipykernel_1097/1251894869.py:38: DataConversionWarning: A column-vector y was passed when a 1d array was expected. Please change the shape of y to (n_samples,), for example using ravel().\n",
      "  estimator.fit(data,target)\n",
      " 46%|████▌     | 46/100 [03:34<03:48,  4.24s/it]/tmp/ipykernel_1097/1251894869.py:38: DataConversionWarning: A column-vector y was passed when a 1d array was expected. Please change the shape of y to (n_samples,), for example using ravel().\n",
      "  estimator.fit(data,target)\n",
      " 47%|████▋     | 47/100 [03:39<03:48,  4.30s/it]/tmp/ipykernel_1097/1251894869.py:38: DataConversionWarning: A column-vector y was passed when a 1d array was expected. Please change the shape of y to (n_samples,), for example using ravel().\n",
      "  estimator.fit(data,target)\n",
      " 48%|████▊     | 48/100 [03:43<03:37,  4.19s/it]/tmp/ipykernel_1097/1251894869.py:38: DataConversionWarning: A column-vector y was passed when a 1d array was expected. Please change the shape of y to (n_samples,), for example using ravel().\n",
      "  estimator.fit(data,target)\n",
      " 49%|████▉     | 49/100 [03:46<03:22,  3.97s/it]/tmp/ipykernel_1097/1251894869.py:38: DataConversionWarning: A column-vector y was passed when a 1d array was expected. Please change the shape of y to (n_samples,), for example using ravel().\n",
      "  estimator.fit(data,target)\n",
      " 50%|█████     | 50/100 [03:51<03:26,  4.14s/it]/tmp/ipykernel_1097/1251894869.py:38: DataConversionWarning: A column-vector y was passed when a 1d array was expected. Please change the shape of y to (n_samples,), for example using ravel().\n",
      "  estimator.fit(data,target)\n",
      " 51%|█████     | 51/100 [03:54<03:15,  3.99s/it]/tmp/ipykernel_1097/1251894869.py:38: DataConversionWarning: A column-vector y was passed when a 1d array was expected. Please change the shape of y to (n_samples,), for example using ravel().\n",
      "  estimator.fit(data,target)\n",
      " 52%|█████▏    | 52/100 [04:00<03:37,  4.54s/it]/tmp/ipykernel_1097/1251894869.py:38: DataConversionWarning: A column-vector y was passed when a 1d array was expected. Please change the shape of y to (n_samples,), for example using ravel().\n",
      "  estimator.fit(data,target)\n",
      " 53%|█████▎    | 53/100 [04:05<03:35,  4.58s/it]/tmp/ipykernel_1097/1251894869.py:38: DataConversionWarning: A column-vector y was passed when a 1d array was expected. Please change the shape of y to (n_samples,), for example using ravel().\n",
      "  estimator.fit(data,target)\n",
      " 54%|█████▍    | 54/100 [04:09<03:31,  4.59s/it]/tmp/ipykernel_1097/1251894869.py:38: DataConversionWarning: A column-vector y was passed when a 1d array was expected. Please change the shape of y to (n_samples,), for example using ravel().\n",
      "  estimator.fit(data,target)\n",
      " 55%|█████▌    | 55/100 [04:14<03:28,  4.64s/it]/tmp/ipykernel_1097/1251894869.py:38: DataConversionWarning: A column-vector y was passed when a 1d array was expected. Please change the shape of y to (n_samples,), for example using ravel().\n",
      "  estimator.fit(data,target)\n",
      " 56%|█████▌    | 56/100 [04:21<03:48,  5.18s/it]/tmp/ipykernel_1097/1251894869.py:38: DataConversionWarning: A column-vector y was passed when a 1d array was expected. Please change the shape of y to (n_samples,), for example using ravel().\n",
      "  estimator.fit(data,target)\n",
      " 57%|█████▋    | 57/100 [04:25<03:33,  4.98s/it]/tmp/ipykernel_1097/1251894869.py:38: DataConversionWarning: A column-vector y was passed when a 1d array was expected. Please change the shape of y to (n_samples,), for example using ravel().\n",
      "  estimator.fit(data,target)\n",
      " 58%|█████▊    | 58/100 [04:31<03:33,  5.09s/it]/tmp/ipykernel_1097/1251894869.py:38: DataConversionWarning: A column-vector y was passed when a 1d array was expected. Please change the shape of y to (n_samples,), for example using ravel().\n",
      "  estimator.fit(data,target)\n",
      " 59%|█████▉    | 59/100 [04:35<03:24,  4.98s/it]/tmp/ipykernel_1097/1251894869.py:38: DataConversionWarning: A column-vector y was passed when a 1d array was expected. Please change the shape of y to (n_samples,), for example using ravel().\n",
      "  estimator.fit(data,target)\n",
      " 60%|██████    | 60/100 [04:40<03:13,  4.85s/it]/tmp/ipykernel_1097/1251894869.py:38: DataConversionWarning: A column-vector y was passed when a 1d array was expected. Please change the shape of y to (n_samples,), for example using ravel().\n",
      "  estimator.fit(data,target)\n",
      " 61%|██████    | 61/100 [04:44<02:57,  4.55s/it]/tmp/ipykernel_1097/1251894869.py:38: DataConversionWarning: A column-vector y was passed when a 1d array was expected. Please change the shape of y to (n_samples,), for example using ravel().\n",
      "  estimator.fit(data,target)\n",
      " 62%|██████▏   | 62/100 [04:48<02:45,  4.36s/it]/tmp/ipykernel_1097/1251894869.py:38: DataConversionWarning: A column-vector y was passed when a 1d array was expected. Please change the shape of y to (n_samples,), for example using ravel().\n",
      "  estimator.fit(data,target)\n",
      " 63%|██████▎   | 63/100 [04:52<02:37,  4.26s/it]/tmp/ipykernel_1097/1251894869.py:38: DataConversionWarning: A column-vector y was passed when a 1d array was expected. Please change the shape of y to (n_samples,), for example using ravel().\n",
      "  estimator.fit(data,target)\n",
      " 64%|██████▍   | 64/100 [04:56<02:33,  4.26s/it]/tmp/ipykernel_1097/1251894869.py:38: DataConversionWarning: A column-vector y was passed when a 1d array was expected. Please change the shape of y to (n_samples,), for example using ravel().\n",
      "  estimator.fit(data,target)\n",
      " 65%|██████▌   | 65/100 [05:00<02:27,  4.21s/it]/tmp/ipykernel_1097/1251894869.py:38: DataConversionWarning: A column-vector y was passed when a 1d array was expected. Please change the shape of y to (n_samples,), for example using ravel().\n",
      "  estimator.fit(data,target)\n",
      " 66%|██████▌   | 66/100 [05:04<02:20,  4.14s/it]/tmp/ipykernel_1097/1251894869.py:38: DataConversionWarning: A column-vector y was passed when a 1d array was expected. Please change the shape of y to (n_samples,), for example using ravel().\n",
      "  estimator.fit(data,target)\n",
      " 67%|██████▋   | 67/100 [05:08<02:17,  4.17s/it]/tmp/ipykernel_1097/1251894869.py:38: DataConversionWarning: A column-vector y was passed when a 1d array was expected. Please change the shape of y to (n_samples,), for example using ravel().\n",
      "  estimator.fit(data,target)\n",
      " 68%|██████▊   | 68/100 [05:12<02:12,  4.14s/it]/tmp/ipykernel_1097/1251894869.py:38: DataConversionWarning: A column-vector y was passed when a 1d array was expected. Please change the shape of y to (n_samples,), for example using ravel().\n",
      "  estimator.fit(data,target)\n",
      " 69%|██████▉   | 69/100 [05:17<02:11,  4.24s/it]/tmp/ipykernel_1097/1251894869.py:38: DataConversionWarning: A column-vector y was passed when a 1d array was expected. Please change the shape of y to (n_samples,), for example using ravel().\n",
      "  estimator.fit(data,target)\n",
      " 70%|███████   | 70/100 [05:25<02:44,  5.50s/it]/tmp/ipykernel_1097/1251894869.py:38: DataConversionWarning: A column-vector y was passed when a 1d array was expected. Please change the shape of y to (n_samples,), for example using ravel().\n",
      "  estimator.fit(data,target)\n",
      " 71%|███████   | 71/100 [05:31<02:40,  5.52s/it]/tmp/ipykernel_1097/1251894869.py:38: DataConversionWarning: A column-vector y was passed when a 1d array was expected. Please change the shape of y to (n_samples,), for example using ravel().\n",
      "  estimator.fit(data,target)\n",
      " 72%|███████▏  | 72/100 [05:36<02:36,  5.59s/it]/tmp/ipykernel_1097/1251894869.py:38: DataConversionWarning: A column-vector y was passed when a 1d array was expected. Please change the shape of y to (n_samples,), for example using ravel().\n",
      "  estimator.fit(data,target)\n",
      " 73%|███████▎  | 73/100 [05:44<02:47,  6.22s/it]/tmp/ipykernel_1097/1251894869.py:38: DataConversionWarning: A column-vector y was passed when a 1d array was expected. Please change the shape of y to (n_samples,), for example using ravel().\n",
      "  estimator.fit(data,target)\n",
      " 74%|███████▍  | 74/100 [05:51<02:49,  6.51s/it]/tmp/ipykernel_1097/1251894869.py:38: DataConversionWarning: A column-vector y was passed when a 1d array was expected. Please change the shape of y to (n_samples,), for example using ravel().\n",
      "  estimator.fit(data,target)\n",
      " 75%|███████▌  | 75/100 [05:55<02:21,  5.65s/it]/tmp/ipykernel_1097/1251894869.py:38: DataConversionWarning: A column-vector y was passed when a 1d array was expected. Please change the shape of y to (n_samples,), for example using ravel().\n",
      "  estimator.fit(data,target)\n",
      " 76%|███████▌  | 76/100 [06:00<02:09,  5.39s/it]/tmp/ipykernel_1097/1251894869.py:38: DataConversionWarning: A column-vector y was passed when a 1d array was expected. Please change the shape of y to (n_samples,), for example using ravel().\n",
      "  estimator.fit(data,target)\n",
      " 77%|███████▋  | 77/100 [06:05<02:00,  5.24s/it]/tmp/ipykernel_1097/1251894869.py:38: DataConversionWarning: A column-vector y was passed when a 1d array was expected. Please change the shape of y to (n_samples,), for example using ravel().\n",
      "  estimator.fit(data,target)\n",
      " 78%|███████▊  | 78/100 [06:10<01:57,  5.32s/it]/tmp/ipykernel_1097/1251894869.py:38: DataConversionWarning: A column-vector y was passed when a 1d array was expected. Please change the shape of y to (n_samples,), for example using ravel().\n",
      "  estimator.fit(data,target)\n",
      " 79%|███████▉  | 79/100 [06:14<01:45,  5.02s/it]/tmp/ipykernel_1097/1251894869.py:38: DataConversionWarning: A column-vector y was passed when a 1d array was expected. Please change the shape of y to (n_samples,), for example using ravel().\n",
      "  estimator.fit(data,target)\n",
      " 80%|████████  | 80/100 [06:19<01:39,  4.97s/it]/tmp/ipykernel_1097/1251894869.py:38: DataConversionWarning: A column-vector y was passed when a 1d array was expected. Please change the shape of y to (n_samples,), for example using ravel().\n",
      "  estimator.fit(data,target)\n",
      " 81%|████████  | 81/100 [06:26<01:41,  5.35s/it]/tmp/ipykernel_1097/1251894869.py:38: DataConversionWarning: A column-vector y was passed when a 1d array was expected. Please change the shape of y to (n_samples,), for example using ravel().\n",
      "  estimator.fit(data,target)\n",
      " 82%|████████▏ | 82/100 [06:30<01:29,  4.95s/it]/tmp/ipykernel_1097/1251894869.py:38: DataConversionWarning: A column-vector y was passed when a 1d array was expected. Please change the shape of y to (n_samples,), for example using ravel().\n",
      "  estimator.fit(data,target)\n",
      " 83%|████████▎ | 83/100 [06:34<01:19,  4.65s/it]/tmp/ipykernel_1097/1251894869.py:38: DataConversionWarning: A column-vector y was passed when a 1d array was expected. Please change the shape of y to (n_samples,), for example using ravel().\n",
      "  estimator.fit(data,target)\n",
      " 84%|████████▍ | 84/100 [06:40<01:21,  5.09s/it]/tmp/ipykernel_1097/1251894869.py:38: DataConversionWarning: A column-vector y was passed when a 1d array was expected. Please change the shape of y to (n_samples,), for example using ravel().\n",
      "  estimator.fit(data,target)\n",
      " 85%|████████▌ | 85/100 [06:44<01:15,  5.01s/it]/tmp/ipykernel_1097/1251894869.py:38: DataConversionWarning: A column-vector y was passed when a 1d array was expected. Please change the shape of y to (n_samples,), for example using ravel().\n",
      "  estimator.fit(data,target)\n",
      " 86%|████████▌ | 86/100 [06:51<01:16,  5.50s/it]/tmp/ipykernel_1097/1251894869.py:38: DataConversionWarning: A column-vector y was passed when a 1d array was expected. Please change the shape of y to (n_samples,), for example using ravel().\n",
      "  estimator.fit(data,target)\n",
      " 87%|████████▋ | 87/100 [06:56<01:09,  5.37s/it]/tmp/ipykernel_1097/1251894869.py:38: DataConversionWarning: A column-vector y was passed when a 1d array was expected. Please change the shape of y to (n_samples,), for example using ravel().\n",
      "  estimator.fit(data,target)\n",
      " 88%|████████▊ | 88/100 [07:00<00:58,  4.89s/it]/tmp/ipykernel_1097/1251894869.py:38: DataConversionWarning: A column-vector y was passed when a 1d array was expected. Please change the shape of y to (n_samples,), for example using ravel().\n",
      "  estimator.fit(data,target)\n",
      " 89%|████████▉ | 89/100 [07:03<00:49,  4.46s/it]/tmp/ipykernel_1097/1251894869.py:38: DataConversionWarning: A column-vector y was passed when a 1d array was expected. Please change the shape of y to (n_samples,), for example using ravel().\n",
      "  estimator.fit(data,target)\n",
      " 90%|█████████ | 90/100 [07:07<00:42,  4.26s/it]/tmp/ipykernel_1097/1251894869.py:38: DataConversionWarning: A column-vector y was passed when a 1d array was expected. Please change the shape of y to (n_samples,), for example using ravel().\n",
      "  estimator.fit(data,target)\n",
      " 91%|█████████ | 91/100 [07:11<00:36,  4.02s/it]/tmp/ipykernel_1097/1251894869.py:38: DataConversionWarning: A column-vector y was passed when a 1d array was expected. Please change the shape of y to (n_samples,), for example using ravel().\n",
      "  estimator.fit(data,target)\n",
      " 92%|█████████▏| 92/100 [07:14<00:30,  3.86s/it]/tmp/ipykernel_1097/1251894869.py:38: DataConversionWarning: A column-vector y was passed when a 1d array was expected. Please change the shape of y to (n_samples,), for example using ravel().\n",
      "  estimator.fit(data,target)\n",
      " 93%|█████████▎| 93/100 [07:18<00:26,  3.79s/it]/tmp/ipykernel_1097/1251894869.py:38: DataConversionWarning: A column-vector y was passed when a 1d array was expected. Please change the shape of y to (n_samples,), for example using ravel().\n",
      "  estimator.fit(data,target)\n",
      " 94%|█████████▍| 94/100 [07:21<00:22,  3.68s/it]/tmp/ipykernel_1097/1251894869.py:38: DataConversionWarning: A column-vector y was passed when a 1d array was expected. Please change the shape of y to (n_samples,), for example using ravel().\n",
      "  estimator.fit(data,target)\n",
      " 95%|█████████▌| 95/100 [07:25<00:18,  3.62s/it]/tmp/ipykernel_1097/1251894869.py:38: DataConversionWarning: A column-vector y was passed when a 1d array was expected. Please change the shape of y to (n_samples,), for example using ravel().\n",
      "  estimator.fit(data,target)\n",
      " 96%|█████████▌| 96/100 [07:29<00:15,  3.76s/it]/tmp/ipykernel_1097/1251894869.py:38: DataConversionWarning: A column-vector y was passed when a 1d array was expected. Please change the shape of y to (n_samples,), for example using ravel().\n",
      "  estimator.fit(data,target)\n",
      " 97%|█████████▋| 97/100 [07:33<00:11,  3.93s/it]/tmp/ipykernel_1097/1251894869.py:38: DataConversionWarning: A column-vector y was passed when a 1d array was expected. Please change the shape of y to (n_samples,), for example using ravel().\n",
      "  estimator.fit(data,target)\n",
      " 98%|█████████▊| 98/100 [07:38<00:08,  4.15s/it]/tmp/ipykernel_1097/1251894869.py:38: DataConversionWarning: A column-vector y was passed when a 1d array was expected. Please change the shape of y to (n_samples,), for example using ravel().\n",
      "  estimator.fit(data,target)\n",
      " 99%|█████████▉| 99/100 [07:42<00:04,  4.21s/it]/tmp/ipykernel_1097/1251894869.py:38: DataConversionWarning: A column-vector y was passed when a 1d array was expected. Please change the shape of y to (n_samples,), for example using ravel().\n",
      "  estimator.fit(data,target)\n",
      "100%|██████████| 100/100 [07:46<00:00,  4.67s/it]\n"
     ]
    }
   ],
   "source": [
    "estimator = None\n",
    "for _ in tqdm(range(100)):\n",
    "\n",
    "    estimator = update(FQI_buffer,estimator=estimator)"
   ]
  },
  {
   "cell_type": "markdown",
   "id": "5d31e689",
   "metadata": {},
   "source": [
    "### Deuxième entraînement"
   ]
  },
  {
   "cell_type": "code",
   "execution_count": 9,
   "id": "140230e1",
   "metadata": {},
   "outputs": [
    {
     "name": "stderr",
     "output_type": "stream",
     "text": [
      "100%|██████████| 30/30 [20:02<00:00, 40.08s/it]\n"
     ]
    }
   ],
   "source": [
    "for j in tqdm(range(30)):\n",
    "\n",
    "    s = patient.reset(mode=\"unhealthy\")\n",
    "\n",
    "    for step in range(200):\n",
    "        \n",
    "        if np.random.random()<0.15:\n",
    "            action = np.random.choice(4)\n",
    "        \n",
    "        else:\n",
    "            if estimator is not None:\n",
    "                greedy = np.zeros((4,2))\n",
    "                for a in range(4):\n",
    "                    #print(f\"States shape --> {np.expand_dims(s.T,axis=1).shape}, actions shape --> {np.expand_dims(np.array([a]),axis=1).shape}\")\n",
    "                    sta = np.expand_dims(s,axis=1)\n",
    "                    act = np.expand_dims(np.array([a]),axis=1)\n",
    "                    X = np.concatenate((sta,act),axis=0).T\n",
    "                    #print((f\"shape of X --> {X.shape}\"))\n",
    "                    q = estimator.predict(X)\n",
    "                    #print(f'Q -->{q}')\n",
    "                    greedy[a,0] , greedy[a,1] = a , q\n",
    "\n",
    "                #print(greedy)\n",
    "                action = greedy[np.argmax(greedy[:,0]),0]\n",
    "            \n",
    "            else:\n",
    "                action = np.random.choice(4)\n",
    "\n",
    "\n",
    "        s_, r, d, _ = patient.step(int(action))\n",
    "        FQI_buffer.append(s,a,r,s_,d)\n",
    "        s = s_\n",
    "\n"
   ]
  },
  {
   "cell_type": "code",
   "execution_count": 37,
   "id": "0c5dc61d",
   "metadata": {},
   "outputs": [
    {
     "name": "stderr",
     "output_type": "stream",
     "text": [
      "100%|██████████| 100/100 [00:00<00:00, 56096.08it/s]\n"
     ]
    }
   ],
   "source": [
    "while _ in tqdm(range(100)):\n",
    "    estimator = update(FQI_buffer,estimator=estimator)"
   ]
  },
  {
   "cell_type": "markdown",
   "id": "da3be504",
   "metadata": {},
   "source": [
    "### Affichons les résultats"
   ]
  },
  {
   "cell_type": "code",
   "execution_count": 29,
   "id": "8e49a3ec",
   "metadata": {},
   "outputs": [
    {
     "name": "stderr",
     "output_type": "stream",
     "text": [
      "100%|██████████| 200/200 [00:59<00:00,  3.37it/s]\n"
     ]
    }
   ],
   "source": [
    "\n",
    "s = patient.reset(mode=\"unhealthy\")\n",
    "T1,T2,T1_,T2_,V,E = np.zeros(200), np.zeros(200), np.zeros(200), np.zeros(200), np.zeros(200), np.zeros(200)\n",
    "actions = []\n",
    "for step in tqdm(range(200)):\n",
    "    T1[step], T2[step], T1_[step], T2_[step], V[step], E[step] = s \n",
    "\n",
    "    greedy = np.zeros((4,2))\n",
    "        \n",
    "    for a in range(4):\n",
    "                    #print(f\"States shape --> {np.expand_dims(s.T,axis=1).shape}, actions shape --> {np.expand_dims(np.array([a]),axis=1).shape}\")\n",
    "        sta = np.expand_dims(s,axis=1)\n",
    "        act = np.expand_dims(np.array([a]),axis=1)\n",
    "        X = np.concatenate((sta,act),axis=0).T\n",
    "                    #print((f\"shape of X --> {X.shape}\"))\n",
    "        q = estimator.predict(X)\n",
    "                    #print(f'Q -->{q}')\n",
    "        greedy[a,0] , greedy[a,1] = a , q\n",
    "\n",
    "                #print(greedy)\n",
    "    action = greedy[np.argmax(greedy[:,0]),0]\n",
    "    actions += [action]\n",
    "            \n",
    "\n",
    "\n",
    "    s_, r, d, _ = patient.step(int(action))\n",
    "    FQI_buffer.append(s,a,r,s_,d)\n",
    "    s = s_"
   ]
  },
  {
   "cell_type": "markdown",
   "id": "9eb452d3",
   "metadata": {},
   "source": [
    "Post traitement"
   ]
  },
  {
   "cell_type": "code",
   "execution_count": 35,
   "id": "5c70a8d3",
   "metadata": {},
   "outputs": [
    {
     "data": {
      "text/plain": [
       "[3.0,\n",
       " 3.0,\n",
       " 3.0,\n",
       " 3.0,\n",
       " 3.0,\n",
       " 3.0,\n",
       " 3.0,\n",
       " 3.0,\n",
       " 3.0,\n",
       " 3.0,\n",
       " 3.0,\n",
       " 3.0,\n",
       " 3.0,\n",
       " 3.0,\n",
       " 3.0,\n",
       " 3.0,\n",
       " 3.0,\n",
       " 3.0,\n",
       " 3.0,\n",
       " 3.0,\n",
       " 3.0,\n",
       " 3.0,\n",
       " 3.0,\n",
       " 3.0,\n",
       " 3.0,\n",
       " 3.0,\n",
       " 3.0,\n",
       " 3.0,\n",
       " 3.0,\n",
       " 3.0,\n",
       " 3.0,\n",
       " 3.0,\n",
       " 3.0,\n",
       " 3.0,\n",
       " 3.0,\n",
       " 3.0,\n",
       " 3.0,\n",
       " 3.0,\n",
       " 3.0,\n",
       " 3.0,\n",
       " 3.0,\n",
       " 3.0,\n",
       " 3.0,\n",
       " 3.0,\n",
       " 3.0,\n",
       " 3.0,\n",
       " 3.0,\n",
       " 3.0,\n",
       " 3.0,\n",
       " 3.0,\n",
       " 3.0,\n",
       " 3.0,\n",
       " 3.0,\n",
       " 3.0,\n",
       " 3.0,\n",
       " 3.0,\n",
       " 3.0,\n",
       " 3.0,\n",
       " 3.0,\n",
       " 3.0,\n",
       " 3.0,\n",
       " 3.0,\n",
       " 3.0,\n",
       " 3.0,\n",
       " 3.0,\n",
       " 3.0,\n",
       " 3.0,\n",
       " 3.0,\n",
       " 3.0,\n",
       " 3.0,\n",
       " 3.0,\n",
       " 3.0,\n",
       " 3.0,\n",
       " 3.0,\n",
       " 3.0,\n",
       " 3.0,\n",
       " 3.0,\n",
       " 3.0,\n",
       " 3.0,\n",
       " 3.0,\n",
       " 3.0,\n",
       " 3.0,\n",
       " 3.0,\n",
       " 3.0,\n",
       " 3.0,\n",
       " 3.0,\n",
       " 3.0,\n",
       " 3.0,\n",
       " 3.0,\n",
       " 3.0,\n",
       " 3.0,\n",
       " 3.0,\n",
       " 3.0,\n",
       " 3.0,\n",
       " 3.0,\n",
       " 3.0,\n",
       " 3.0,\n",
       " 3.0,\n",
       " 3.0,\n",
       " 3.0,\n",
       " 3.0,\n",
       " 3.0,\n",
       " 3.0,\n",
       " 3.0,\n",
       " 3.0,\n",
       " 3.0,\n",
       " 3.0,\n",
       " 3.0,\n",
       " 3.0,\n",
       " 3.0,\n",
       " 3.0,\n",
       " 3.0,\n",
       " 3.0,\n",
       " 3.0,\n",
       " 3.0,\n",
       " 3.0,\n",
       " 3.0,\n",
       " 3.0,\n",
       " 3.0,\n",
       " 3.0,\n",
       " 3.0,\n",
       " 3.0,\n",
       " 3.0,\n",
       " 3.0,\n",
       " 3.0,\n",
       " 3.0,\n",
       " 3.0,\n",
       " 3.0,\n",
       " 3.0,\n",
       " 3.0,\n",
       " 3.0,\n",
       " 3.0,\n",
       " 3.0,\n",
       " 3.0,\n",
       " 3.0,\n",
       " 3.0,\n",
       " 3.0,\n",
       " 3.0,\n",
       " 3.0,\n",
       " 3.0,\n",
       " 3.0,\n",
       " 3.0,\n",
       " 3.0,\n",
       " 3.0,\n",
       " 3.0,\n",
       " 3.0,\n",
       " 3.0,\n",
       " 3.0,\n",
       " 3.0,\n",
       " 3.0,\n",
       " 3.0,\n",
       " 3.0,\n",
       " 3.0,\n",
       " 3.0,\n",
       " 3.0,\n",
       " 3.0,\n",
       " 3.0,\n",
       " 3.0,\n",
       " 3.0,\n",
       " 3.0,\n",
       " 3.0,\n",
       " 3.0,\n",
       " 3.0,\n",
       " 3.0,\n",
       " 3.0,\n",
       " 3.0,\n",
       " 3.0,\n",
       " 3.0,\n",
       " 3.0,\n",
       " 3.0,\n",
       " 3.0,\n",
       " 3.0,\n",
       " 3.0,\n",
       " 3.0,\n",
       " 3.0,\n",
       " 3.0,\n",
       " 3.0,\n",
       " 3.0,\n",
       " 3.0,\n",
       " 3.0,\n",
       " 3.0,\n",
       " 3.0,\n",
       " 3.0,\n",
       " 3.0,\n",
       " 3.0,\n",
       " 3.0,\n",
       " 3.0,\n",
       " 3.0,\n",
       " 3.0,\n",
       " 3.0,\n",
       " 3.0,\n",
       " 3.0,\n",
       " 3.0,\n",
       " 3.0,\n",
       " 3.0,\n",
       " 3.0,\n",
       " 3.0,\n",
       " 3.0,\n",
       " 3.0,\n",
       " 3.0]"
      ]
     },
     "execution_count": 35,
     "metadata": {},
     "output_type": "execute_result"
    }
   ],
   "source": [
    "actions"
   ]
  },
  {
   "cell_type": "code",
   "execution_count": 32,
   "id": "61eafd9a",
   "metadata": {},
   "outputs": [
    {
     "data": {
      "text/plain": [
       "[<matplotlib.lines.Line2D at 0x7f2e05c614f0>]"
      ]
     },
     "execution_count": 32,
     "metadata": {},
     "output_type": "execute_result"
    },
    {
     "data": {
      "image/png": "[encoded data removed]",
      "text/plain": [
       "<Figure size 432x288 with 1 Axes>"
      ]
     },
     "metadata": {
      "needs_background": "light"
     },
     "output_type": "display_data"
    }
   ],
   "source": [
    "plt.plot(np.log10(E))"
   ]
  },
  {
   "cell_type": "code",
   "execution_count": 33,
   "id": "f8cbce3c",
   "metadata": {},
   "outputs": [
    {
     "data": {
      "text/plain": [
       "[<matplotlib.lines.Line2D at 0x7f2e05bcc190>]"
      ]
     },
     "execution_count": 33,
     "metadata": {},
     "output_type": "execute_result"
    },
    {
     "data": {
      "image/png": "[encoded data removed]",
      "text/plain": [
       "<Figure size 432x288 with 1 Axes>"
      ]
     },
     "metadata": {
      "needs_background": "light"
     },
     "output_type": "display_data"
    }
   ],
   "source": [
    "plt.plot(np.log10(T1))"
   ]
  },
  {
   "cell_type": "code",
   "execution_count": 15,
   "id": "e74726e4",
   "metadata": {},
   "outputs": [
    {
     "data": {
      "text/plain": [
       "(array([[1.63573000e+05, 1.19450000e+04, 5.00000000e+00, 4.60000000e+01,\n",
       "         6.39190000e+04, 2.40000000e+01],\n",
       "        [2.00984608e+05, 8.59620520e+02, 5.61261871e+01, 2.70306597e+01,\n",
       "         3.46017570e+03, 2.63445446e+01],\n",
       "        [2.39414505e+05, 1.23822123e+02, 1.43947180e+02, 1.56645100e+01,\n",
       "         7.66274163e+02, 3.52487135e+01],\n",
       "        ...,\n",
       "        [7.74589963e+05, 3.21815372e+03, 3.42440797e+01, 4.51712206e+01,\n",
       "         1.21244139e+04, 3.89012715e+01],\n",
       "        [7.74590793e+05, 3.21810210e+03, 3.42446478e+01, 4.51712502e+01,\n",
       "         1.21242212e+04, 3.89016062e+01],\n",
       "        [7.74591720e+05, 3.21806461e+03, 3.42450714e+01, 4.51712851e+01,\n",
       "         1.21240810e+04, 3.89019507e+01]]),\n",
       " array([3, 2, 3, ..., 3, 3, 3]),\n",
       " array([ 6008.1       , 16198.52698345, 23572.08610702, ...,\n",
       "        26088.83009048, 26089.18411797, 26089.54260198]),\n",
       " array([[2.00984608e+05, 8.59620520e+02, 5.61261871e+01, 2.70306597e+01,\n",
       "         3.46017570e+03, 2.63445446e+01],\n",
       "        [2.39414505e+05, 1.23822123e+02, 1.43947180e+02, 1.56645100e+01,\n",
       "         7.66274163e+02, 3.52487135e+01],\n",
       "        [2.76433607e+05, 1.54336943e+01, 2.76776615e+02, 3.65822846e+00,\n",
       "         7.35320791e+01, 3.61577490e+01],\n",
       "        ...,\n",
       "        [7.74590793e+05, 3.21810210e+03, 3.42446478e+01, 4.51712502e+01,\n",
       "         1.21242212e+04, 3.89016062e+01],\n",
       "        [7.74591720e+05, 3.21806461e+03, 3.42450714e+01, 4.51712851e+01,\n",
       "         1.21240810e+04, 3.89019507e+01],\n",
       "        [7.74592692e+05, 3.21804155e+03, 3.42453454e+01, 4.51713232e+01,\n",
       "         1.21239944e+04, 3.89022875e+01]]),\n",
       " array([False, False, False, ..., False, False, False]))"
      ]
     },
     "execution_count": 15,
     "metadata": {},
     "output_type": "execute_result"
    }
   ],
   "source": [
    "FQI_buffer.get()"
   ]
  },
  {
   "cell_type": "code",
   "execution_count": 16,
   "id": "10b95c94",
   "metadata": {},
   "outputs": [
    {
     "data": {
      "text/plain": [
       "(12200,)"
      ]
     },
     "execution_count": 16,
     "metadata": {},
     "output_type": "execute_result"
    }
   ],
   "source": [
    "np.array(FQI_buffer.actions).shape"
   ]
  },
  {
   "cell_type": "code",
   "execution_count": 80,
   "id": "482e1bb9",
   "metadata": {},
   "outputs": [],
   "source": [
    "_, _, rewards, _, _  = FQI_buffer.get()"
   ]
  },
  {
   "cell_type": "code",
   "execution_count": null,
   "id": "b2e703f8",
   "metadata": {},
   "outputs": [],
   "source": []
  }
 ],
 "metadata": {
  "interpreter": {
   "hash": "edf10e7524d00902eeb2a4732dbaf66f64af3a6ffde7226bd6cca7355898937a"
  },
  "kernelspec": {
   "display_name": "d2l",
   "language": "python",
   "name": "python3"
  },
  "language_info": {
   "codemirror_mode": {
    "name": "ipython",
    "version": 3
   },
   "file_extension": ".py",
   "mimetype": "text/x-python",
   "name": "python",
   "nbconvert_exporter": "python",
   "pygments_lexer": "ipython3",
   "version": "3.9.7"
  }
 },
 "nbformat": 4,
 "nbformat_minor": 5
}
