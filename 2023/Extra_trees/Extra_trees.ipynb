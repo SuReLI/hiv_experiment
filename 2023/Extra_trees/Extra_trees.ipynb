{
 "cells": [
  {
   "cell_type": "code",
   "execution_count": null,
   "metadata": {},
   "outputs": [],
   "source": [
    "import numpy as np\n",
    "import matplotlib.pyplot as plt\n",
    "from hiv_patient import HIVPatient\n",
    "import random\n",
    "import torch"
   ]
  },
  {
   "cell_type": "code",
   "execution_count": null,
   "metadata": {},
   "outputs": [],
   "source": [
    "# Replay buffer class\n",
    "class ReplayBuffer:\n",
    "    def __init__(self, env):\n",
    "        self.data = []\n",
    "        self.index = 0 # index of the next cell to be filled\n",
    "        self.env = env\n",
    "        for j in range(30):\n",
    "            self.env.reset()\n",
    "            for k in range(200):\n",
    "                s = self.env.state()\n",
    "                a = np.random.randint(0, 4)\n",
    "                s_, r, _, _ = self.env.step(a)\n",
    "                self.data.append((s, a, r, s_))\n",
    "\n",
    "\n",
    "    def update(self, Q):\n",
    "        for j in range(30):\n",
    "            self.env.reset()\n",
    "            for k in range(200):\n",
    "                None\n",
    "\n",
    "        return  None     \n",
    "\n",
    "    def __len__(self):\n",
    "        return len(self.data)"
   ]
  }
 ],
 "metadata": {
  "language_info": {
   "name": "python"
  },
  "orig_nbformat": 4
 },
 "nbformat": 4,
 "nbformat_minor": 2
}
