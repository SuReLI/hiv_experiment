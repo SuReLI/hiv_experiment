{
 "cells": [
  {
   "cell_type": "code",
   "execution_count": 62,
   "metadata": {},
   "outputs": [],
   "source": [
    "import random\n",
    "import numpy as np\n",
    "from tqdm import tqdm\n",
    "import matplotlib.pyplot as plt\n",
    "from hiv_patient import HIVPatient\n",
    "from sklearn.ensemble import ExtraTreesRegressor \n",
    "from copy import deepcopy"
   ]
  },
  {
   "cell_type": "code",
   "execution_count": 8,
   "metadata": {},
   "outputs": [],
   "source": [
    "def greedy_action(tree, state, env):\n",
    "    rew = []\n",
    "    for j in range(4):\n",
    "        input_a = np.zeros((1, 8))\n",
    "        input_a[:, :6] = state\n",
    "        input_a[:, 6:] = env.action_set[j]\n",
    "        rew.append(tree.predict(input_a))\n",
    " \n",
    "    return np.argmax(rew)"
   ]
  },
  {
   "cell_type": "code",
   "execution_count": 9,
   "metadata": {},
   "outputs": [],
   "source": [
    "# Replay buffer class\n",
    "class ReplayBuffer:\n",
    "    def __init__(self, \n",
    "                 env,\n",
    "                 gamma=0.9,\n",
    "                 epsilon=0.15,\n",
    "                 nb_actions=4,\n",
    "                 nb_patient=30,\n",
    "                 duration=200):\n",
    "        \n",
    "\n",
    "        self.env = env\n",
    "        self.gamma = gamma \n",
    "        self.epsilon = epsilon\n",
    "        self.nb_actions = nb_actions\n",
    "        self.nb_patients = nb_patient\n",
    "        self.duration = duration\n",
    "        self.data = np.zeros((self.duration * self.nb_patients, 15))\n",
    "\n",
    "\n",
    "        print('Initializing replay buffer RB_0:')\n",
    "        for j in tqdm(range(self.nb_patients)):\n",
    "            self.env.reset()\n",
    "            for k in range(self.duration):\n",
    "                s = self.env.state()\n",
    "                idx_a = np.random.randint(self.nb_actions)\n",
    "                a = self.env.action_set[idx_a]\n",
    "                s_, r, _, _ = self.env.step(idx_a)\n",
    "\n",
    "                # state size 6,  action size 2,  reward size 1\n",
    "                self.data[j*self.duration + k, : 6] = s # state\n",
    "                self.data[j*self.duration + k, 6:8] = a # action\n",
    "                self.data[j*self.duration + k, 8] = r # reward\n",
    "                self.data[j*self.duration + k, 9: ]  = s_ # new state\n",
    "\n",
    "\n",
    "    def update_set(self, tree, data):\n",
    "        self.data_new = np.zeros((self.duration * self.nb_patients, 15))\n",
    "        for j in range(self.nb_patients):\n",
    "            self.env.reset()\n",
    "            for k in range(self.duration):\n",
    "                # epsilon greedy\n",
    "                s = self.env.state() \n",
    "                if np.random.rand() < self.epsilon:\n",
    "                    idx_a = np.random.randint(self.nb_actions)\n",
    "                else :\n",
    "                    idx_a = greedy_action(tree, s, self.env)\n",
    "                \n",
    "                s_, r, _, _ = self.env.step(idx_a)\n",
    "                a = self.env.action_set[idx_a]\n",
    "                self.data_new[j*self.duration + k, : 6] = s # state\n",
    "                self.data_new[j*self.duration + k, 6:8] = a # action\n",
    "                self.data_new[j*self.duration + k, 8] = r # reward\n",
    "                self.data_new[j*self.duration + k, 9: ]  = s_ # new state\n",
    "        update_data = np.concatenate([data, self.data_new])\n",
    "        \n",
    "        return update_data\n",
    "\n",
    "        \n",
    "        \n",
    "\n",
    "    def __len__(self):\n",
    "        return len(self.data)"
   ]
  },
  {
   "cell_type": "code",
   "execution_count": 68,
   "metadata": {},
   "outputs": [],
   "source": [
    "class ExtraTree:\n",
    "    def __init__(self, \n",
    "                 config,\n",
    "                 env,\n",
    "                 nb_epoch) -> None:\n",
    "        self.env = env\n",
    "        self.nb_epoch = nb_epoch\n",
    "        self.duration = config['duration']\n",
    "        self.nb_patient = config['nb_patients']\n",
    "        self.gamma = config['gamma']\n",
    "        self.buffer = ReplayBuffer(env,\n",
    "                                 gamma=self.gamma,\n",
    "                                 epsilon=0.15,\n",
    "                                 nb_actions=len(self.env.action_set),\n",
    "                                 duration=self.duration, \n",
    "                                 nb_patient=self.nb_patient)\n",
    "        self.data = self.buffer.data\n",
    "        self.Qtree = ExtraTreesRegressor()\n",
    "\n",
    "        self.checkpoints = []\n",
    "        self.cumulated_rewards = []\n",
    "    \n",
    "    def train(self):\n",
    "\n",
    "        # First step\n",
    "        X, y = self.data[:, :8], self.data[:, 8]\n",
    "        self.Qtree.fit(X,y)\n",
    "        self.checkpoints.append(self.Qtree)\n",
    "\n",
    "        for epoch in range(self.nb_epoch):\n",
    "            print('Epoch: ', epoch)\n",
    "            print('-------')\n",
    "            X_ = np.zeros((self.data.shape[0], 8))\n",
    "            X_[:, :6]= self.data[:, 9:] # s prime\n",
    "            y_res = np.zeros((self.data.shape[0], 4))\n",
    "            \n",
    "            # We loop on all possible actions \n",
    "            for idx_a in range(4):\n",
    "                a = self.env.action_set[idx_a]\n",
    "                X_[:, 6:] = a\n",
    "                y_pred = self.Qtree.predict(X_)\n",
    "                y_res[:, idx_a] = y_pred\n",
    "\n",
    "            # We take the argmax and update our training set\n",
    "            idx_max = np.argmax(y_res, axis=1)\n",
    "            print(np.take_along_axis(y_res, idx_max[:,None], axis=1).shape)\n",
    "            self.data[:,8] = self.data[:, 8] + self.gamma * np.take_along_axis(y_res, idx_max[:,None], axis=1)[:, 0]\n",
    "\n",
    "            #We update the training set\n",
    "            self.data = self.buffer.update_set(self.Qtree, self.data)\n",
    "\n",
    "            # fitting the tree with the new training set\n",
    "            X, y = self.data[:, :8], self.data[:, 8]\n",
    "            self.Qtree.fit(X,y)\n",
    "            self.checkpoints.append(deepcopy(self.Qtree))\n",
    "\n",
    "    def test(self):\n",
    "        nb_trees = len(self.checkpoints)\n",
    "        actions = np.zeros((1+nb_trees, self.duration))\n",
    "        states = np.zeros((1+nb_trees, self.duration, 6))\n",
    "        for i in range(nb_trees):\n",
    "            self.env.reset()\n",
    "            cum_reward_tree = 0\n",
    "            for k in range(self.duration):\n",
    "                s = self.env.state()\n",
    "\n",
    "                y_res = []\n",
    "                if i == 0: # Random behaviour\n",
    "                    idx_a = np.random.randint(4)\n",
    "                else: # Fitted Q Tree\n",
    "                    for idx_a in range(4):\n",
    "                        a = self.env.action_set[idx_a]\n",
    "                        y_pred = self.checkpoints[i].predict(np.concatenate([s,a]).reshape(1, -1))\n",
    "                        y_res.append(y_pred)\n",
    "                    idx_a = np.argmax(y_res)\n",
    "                a = self.env.action_set[idx_a]\n",
    "                s_, r, _, _ = self.env.step(idx_a)\n",
    "                cum_reward_tree += r\n",
    "                actions[i, k] = idx_a\n",
    "                states[i, k, :] = s\n",
    "\n",
    "            self.cumulated_rewards.append(cum_reward_tree)\n",
    "        return actions, states, self.cumulated_rewards\n"
   ]
  },
  {
   "cell_type": "code",
   "execution_count": 69,
   "metadata": {},
   "outputs": [
    {
     "name": "stdout",
     "output_type": "stream",
     "text": [
      "Initializing replay buffer RB_0:\n"
     ]
    },
    {
     "name": "stderr",
     "output_type": "stream",
     "text": [
      "100%|██████████| 5/5 [00:03<00:00,  1.61it/s]\n"
     ]
    }
   ],
   "source": [
    "patient = HIVPatient()\n",
    "config_test = {'gamma': 0.99,\n",
    "               'nb_patients': 5,\n",
    "               'duration': 10 }\n",
    "\n",
    "\n",
    "Tree_test = ExtraTree(config=config_test,\n",
    "                      env=patient,\n",
    "                      nb_epoch= 3)"
   ]
  },
  {
   "cell_type": "code",
   "execution_count": 70,
   "metadata": {},
   "outputs": [
    {
     "name": "stdout",
     "output_type": "stream",
     "text": [
      "Epoch:  0\n",
      "-------\n",
      "(50, 1)\n",
      "Epoch:  1\n",
      "-------\n",
      "(100, 1)\n",
      "Epoch:  2\n",
      "-------\n",
      "(150, 1)\n"
     ]
    }
   ],
   "source": [
    "Tree_test.train()"
   ]
  },
  {
   "cell_type": "code",
   "execution_count": 71,
   "metadata": {},
   "outputs": [],
   "source": [
    "actions, states, cum_reward = Tree_test.test()"
   ]
  },
  {
   "cell_type": "code",
   "execution_count": 73,
   "metadata": {},
   "outputs": [
    {
     "data": {
      "text/plain": [
       "Text(0.5, 0, 'Iteration')"
      ]
     },
     "execution_count": 73,
     "metadata": {},
     "output_type": "execute_result"
    },
    {
     "data": {
      "image/png": "[encoded data removed]",
      "text/plain": [
       "<Figure size 640x480 with 1 Axes>"
      ]
     },
     "metadata": {},
     "output_type": "display_data"
    }
   ],
   "source": [
    "plt.scatter(range(len(cum_reward)),cum_reward)\n",
    "plt.xlabel('Iteration')"
   ]
  },
  {
   "cell_type": "code",
   "execution_count": 61,
   "metadata": {},
   "outputs": [
    {
     "data": {
      "text/plain": [
       "[262802.5533481743, 262802.5533481743, 262802.5533481743]"
      ]
     },
     "execution_count": 61,
     "metadata": {},
     "output_type": "execute_result"
    }
   ],
   "source": [
    "cum_reward"
   ]
  },
  {
   "cell_type": "code",
   "execution_count": null,
   "metadata": {},
   "outputs": [],
   "source": []
  }
 ],
 "metadata": {
  "kernelspec": {
   "display_name": "venv",
   "language": "python",
   "name": "python3"
  },
  "language_info": {
   "codemirror_mode": {
    "name": "ipython",
    "version": 3
   },
   "file_extension": ".py",
   "mimetype": "text/x-python",
   "name": "python",
   "nbconvert_exporter": "python",
   "pygments_lexer": "ipython3",
   "version": "3.11.2"
  },
  "orig_nbformat": 4
 },
 "nbformat": 4,
 "nbformat_minor": 2
}
