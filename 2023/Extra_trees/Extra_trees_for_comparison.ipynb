{
 "cells": [
  {
   "cell_type": "code",
   "execution_count": 5,
   "metadata": {},
   "outputs": [],
   "source": [
    "import random\n",
    "import numpy as np\n",
    "from tqdm import trange\n",
    "import matplotlib.pyplot as plt\n",
    "from hiv_patient import HIVPatient\n",
    "from sklearn.ensemble import ExtraTreesRegressor "
   ]
  },
  {
   "cell_type": "code",
   "execution_count": 6,
   "metadata": {},
   "outputs": [],
   "source": [
    "class ReplayBuffer:\n",
    "    def __init__(self, patient, nb_patients=5, nb_steps=10):\n",
    "        self.nb_patients = nb_patients\n",
    "        self.nb_steps  = nb_steps\n",
    "        self.capacity = nb_patients * nb_steps # capacity of the buffer\n",
    "        self.data = np.zeros((self.capacity, 14))\n",
    "        self.index = 0 # index of the next cell to be filled\n",
    "        self.patient = patient\n",
    "\n",
    "    def fill(self, reg=None, epsilon=.15):\n",
    "        k=0\n",
    "        for i in trange(self.nb_patients):\n",
    "            s = self.patient.reset(mode=\"healthy\")\n",
    "            s[5] *= .75\n",
    "            self.patient.E *= .75\n",
    "            for step in range(self.nb_steps):\n",
    "                if reg == None:\n",
    "                    a = np.random.randint(4)\n",
    "                else:\n",
    "                    threshold = np.random.rand()\n",
    "                    if threshold < epsilon:\n",
    "                        a = np.random.randint(4)\n",
    "                    else:\n",
    "                        a = np.argmax([reg.predict(np.append(s,a).reshape(1,-1)) for a in range(4)])\n",
    "                s = self.patient.state()\n",
    "                s_, r,_ ,_  = self.patient.step(a)\n",
    "                self.data[k,:6] = s\n",
    "                self.data[k,6:7] = a\n",
    "                self.data[k,7:8] = r\n",
    "                self.data[k,8:] = s_\n",
    "                k+=1\n",
    "\n",
    "    def concatenate(self, replay_buffer):\n",
    "        self.data = np.concatenate((self.data, replay_buffer.data))\n",
    "\n",
    "    def sample(self, batch_size):\n",
    "        return random.sample(self.data, batch_size)\n",
    "\n",
    "    def __len__(self):\n",
    "        return len(self.data)"
   ]
  },
  {
   "cell_type": "code",
   "execution_count": null,
   "metadata": {},
   "outputs": [],
   "source": [
    "class FittedQExtraTree:\n",
    "    def __init__(self, initial_buffer, nb_iterations=3, gamma=.99, epsilon=.15):\n",
    "        self.Qtree = ExtraTreesRegressor()\n",
    "        self.buffers = [initial_buffer]\n",
    "        self.nb_iterations = nb_iterations\n",
    "        self.nb_patients = initial_buffer.nb_patients\n",
    "        self.nb_steps = initial_buffer.nb_steps\n",
    "        self.patient = initial_buffer.patient\n",
    "        self.gamma=gamma\n",
    "    \n",
    "    def fit(self):\n",
    "\n",
    "        print(\"Training on the initial replay buffer:\")\n",
    "        X, y = self.buffers[0].data[:,:7], self.buffers[0].data[:,7] \n",
    "        self.Qtree.fit(X,y)\n",
    "\n",
    "        for i in range(1,self.nb_iterations):\n",
    "            print(\"Creating replay buffer n°{:}\".format(i+1))\n",
    "            self.buffers.append(ReplayBuffer(self.patient, self.nb_patients, self.nb_steps))\n",
    "            self.buffers[i].fill(reg = self.Qtree)\n",
    "            self.buffers[i].concatenate(self.buffers[i-1])\n",
    "            print(\"Training on replay buffer n°{:}\".format(i+1))\n",
    "            X, y = self.buffers[i].data[:,:7], self.buffers[i].data[:,7] + self.gamma * np.max([self.Qtree.predict(np.append((self.buffers[i].data[:, :6], a),axis=1)) for a in range(4)])\n",
    "            self.Qtree.fit(X,y)\n",
    "        \n",
    "        print(\"Training done!\")\n",
    "    \n",
    "    def predict(self, X):\n",
    "        return self.Qtree.predict(X)\n"
   ]
  },
  {
   "cell_type": "code",
   "execution_count": 17,
   "metadata": {},
   "outputs": [],
   "source": [
    "class ErnstModel:\n",
    "    def __init__(self, patient=HIVPatient(), nb_patients=5, nb_steps=10, gamma=.99, nb_iterations=3, epsilon=.15):\n",
    "        self.nb_patients = nb_patients\n",
    "        self.nb_steps = nb_steps\n",
    "        self.gamma = gamma\n",
    "        self.nb_iterations = nb_iterations \n",
    "        self.Qtree = None\n",
    "        self.patient = patient\n",
    "        self.epsilon = epsilon\n",
    "    \n",
    "    def fit(self):\n",
    "\n",
    "        print(\"Creating replay buffer n°1\")\n",
    "        RB0 = ReplayBuffer(self.patient, nb_patients=self.nb_patients, nb_steps=self.nb_steps)\n",
    "        RB0.fill()\n",
    "\n",
    "        self.Qtree = FittedQExtraTree(RB0, nb_iterations=self.nb_iterations, gamma=self.gamma, epsilon=self.epsilon)\n",
    "        self.Qtree.fit()\n",
    "    \n",
    "    def predict(self, X):\n",
    "        return self.Qtree.predict(X)"
   ]
  },
  {
   "cell_type": "code",
   "execution_count": 18,
   "metadata": {},
   "outputs": [
    {
     "name": "stdout",
     "output_type": "stream",
     "text": [
      "Creating replay buffer n°1\n"
     ]
    },
    {
     "name": "stderr",
     "output_type": "stream",
     "text": [
      "100%|██████████| 5/5 [00:03<00:00,  1.32it/s]\n"
     ]
    },
    {
     "name": "stdout",
     "output_type": "stream",
     "text": [
      "Training on the initial replay buffer:\n",
      "Creating replay buffer n°2\n"
     ]
    },
    {
     "name": "stderr",
     "output_type": "stream",
     "text": [
      "100%|██████████| 5/5 [00:04<00:00,  1.03it/s]\n"
     ]
    },
    {
     "name": "stdout",
     "output_type": "stream",
     "text": [
      "Training on replay buffer n°2\n",
      "Creating replay buffer n°3\n"
     ]
    },
    {
     "name": "stderr",
     "output_type": "stream",
     "text": [
      "100%|██████████| 5/5 [00:03<00:00,  1.39it/s]"
     ]
    },
    {
     "name": "stdout",
     "output_type": "stream",
     "text": [
      "Training on replay buffer n°3\n",
      "Training done!\n"
     ]
    },
    {
     "name": "stderr",
     "output_type": "stream",
     "text": [
      "\n"
     ]
    }
   ],
   "source": [
    "em = ErnstModel()\n",
    "em.fit()"
   ]
  },
  {
   "cell_type": "code",
   "execution_count": 20,
   "metadata": {},
   "outputs": [
    {
     "data": {
      "text/plain": [
       "array([14564472.4566539])"
      ]
     },
     "execution_count": 20,
     "metadata": {},
     "output_type": "execute_result"
    }
   ],
   "source": [
    "em.predict(np.array([10, 10, 10, 10, 10, 10, 0]).reshape(1,-1))"
   ]
  },
  {
   "cell_type": "code",
   "execution_count": null,
   "metadata": {},
   "outputs": [],
   "source": []
  }
 ],
 "metadata": {
  "kernelspec": {
   "display_name": "SDD",
   "language": "python",
   "name": "python3"
  },
  "language_info": {
   "codemirror_mode": {
    "name": "ipython",
    "version": 3
   },
   "file_extension": ".py",
   "mimetype": "text/x-python",
   "name": "python",
   "nbconvert_exporter": "python",
   "pygments_lexer": "ipython3",
   "version": "3.11.2"
  },
  "orig_nbformat": 4
 },
 "nbformat": 4,
 "nbformat_minor": 2
}
