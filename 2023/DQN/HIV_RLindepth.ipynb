{
  "cells": [
    {
      "cell_type": "code",
      "execution_count": 1,
      "metadata": {
        "colab": {
          "base_uri": "https://localhost:8080/"
        },
        "id": "-O8XyjBWfXpk",
        "outputId": "9fcc1a80-c000-4bb1-9fd9-3274feb5a91d"
      },
      "outputs": [
        {
          "data": {
            "text/plain": [
              "device(type='cpu')"
            ]
          },
          "execution_count": 1,
          "metadata": {},
          "output_type": "execute_result"
        }
      ],
      "source": [
        "# imports\n",
        "import random\n",
        "import math\n",
        "from itertools import count\n",
        "from collections import namedtuple, deque\n",
        "\n",
        "import torch\n",
        "import torch.nn as nn\n",
        "import torch.optim as optim\n",
        "import torch.nn.functional as F\n",
        "import matplotlib\n",
        "import matplotlib.pyplot as plt\n",
        "import numpy as np\n",
        "\n",
        "# from google.colab import drive\n",
        "# drive.mount('/content/drive')\n",
        "# from drive.MyDrive.RLindepth.hiv_patient import HIVPatient\n",
        "import sys\n",
        "#sys.path.append('../../')\n",
        "#from hiv_patient import HIVPatient\n",
        "from hiv_patient_ray import HIVPatientRay\n",
        "# set up matplotlib\n",
        "is_ipython = 'inline' in matplotlib.get_backend()\n",
        "if is_ipython:\n",
        "    from IPython import display\n",
        "plt.ion()\n",
        "\n",
        "# use GPU if available\n",
        "device = torch.device(\n",
        "                    \"cuda\" \n",
        "                    if torch.cuda.is_available() \n",
        "                    # else \"mps\" \n",
        "                    # if torch.backends.mps.is_available()\n",
        "                    else \"cpu\"\n",
        "                    )\n",
        "device"
      ]
    },
    {
      "cell_type": "markdown",
      "metadata": {
        "id": "97U3VR9VhTSv"
      },
      "source": [
        "## Replay Memory\n",
        "We’ll be using experience replay memory for training our DQN. It stores the transitions that the agent observes, allowing us to reuse this data later. By sampling from it randomly, the transitions that build up a batch are decorrelated. It has been shown that this greatly stabilizes and improves the DQN training procedure."
      ]
    },
    {
      "cell_type": "code",
      "execution_count": 2,
      "metadata": {
        "id": "V2LZcvsRgpBq"
      },
      "outputs": [],
      "source": [
        "Transition = namedtuple('Transition',\n",
        "                        ('state', 'action', 'next_state', 'reward'))\n",
        "\n",
        "\n",
        "class ReplayMemory(object):\n",
        "\n",
        "    def __init__(self, capacity):\n",
        "        self.memory = deque([], maxlen=capacity)\n",
        "\n",
        "    def push(self, *args):\n",
        "        \"\"\"Save a transition\"\"\"\n",
        "        self.memory.append(Transition(*args))\n",
        "\n",
        "    def sample(self, batch_size):\n",
        "        return random.sample(self.memory, batch_size)\n",
        "\n",
        "    def __len__(self):\n",
        "        return len(self.memory)"
      ]
    },
    {
      "cell_type": "code",
      "execution_count": 3,
      "metadata": {
        "id": "KbXlS3lGjFmx"
      },
      "outputs": [],
      "source": [
        "class DQN(nn.Module):\n",
        "\n",
        "    def __init__(self, n_observations, n_actions):\n",
        "        super(DQN, self).__init__()\n",
        "        self.layer1 = nn.Linear(n_observations, 128)\n",
        "        self.layer2 = nn.Linear(128, 128)\n",
        "        self.layer3 = nn.Linear(128, n_actions)\n",
        "\n",
        "    def forward(self, x):\n",
        "        x = F.relu(self.layer1(x))\n",
        "        x = F.relu(self.layer2(x))\n",
        "        return self.layer3(x)"
      ]
    },
    {
      "cell_type": "code",
      "execution_count": 9,
      "metadata": {
        "id": "CyogXHv4lNml"
      },
      "outputs": [],
      "source": [
        "# BATCH_SIZE is the number of transitions sampled from the replay buffer\n",
        "# GAMMA is the discount factor as mentioned in the previous section\n",
        "# EPS_START is the starting value of epsilon\n",
        "# EPS_END is the final value of epsilon\n",
        "# EPS_DECAY controls the rate of exponential decay of epsilon, higher means a slower decay\n",
        "# TAU is the update rate of the target network\n",
        "# LR is the learning rate of the AdamW optimizer\n",
        "BATCH_SIZE = 128\n",
        "GAMMA = 0.99\n",
        "EPS_START = 0.9\n",
        "EPS_END = 0.05\n",
        "EPS_DECAY = 1000\n",
        "TAU = 0.005\n",
        "LR = 1e-4\n",
        "\n",
        "# get an instance of patient\n",
        "patient = HIVPatientRay(clipping=False,logscale=False)\n",
        "patient.reset()\n",
        "\n",
        "# Get number of actions from gym action space\n",
        "n_actions = len(patient.action_dict)\n",
        "# Get the number of state observations\n",
        "n_observations = len(patient.rawstate())\n",
        "\n",
        "policy_net = DQN(n_observations, n_actions).to(device)\n",
        "target_net = DQN(n_observations, n_actions).to(device)\n",
        "target_net.load_state_dict(policy_net.state_dict())\n",
        "\n",
        "optimizer = optim.AdamW(policy_net.parameters(), lr=LR, amsgrad=True)\n",
        "memory = ReplayMemory(10000)\n",
        "\n",
        "steps_done = 0\n",
        "\n",
        "def select_action(state):\n",
        "    global steps_done\n",
        "    sample = random.random()\n",
        "    eps_threshold = EPS_END + (EPS_START - EPS_END) * \\\n",
        "        math.exp(-1. * steps_done / EPS_DECAY)\n",
        "    steps_done += 1\n",
        "    if sample > eps_threshold:\n",
        "        with torch.no_grad():\n",
        "            # t.max(1) will return the largest column value of each row.\n",
        "            # second column on max result is index of where max element was\n",
        "            # found, so we pick action with the larger expected reward.\n",
        "            return policy_net(state).max(1)[1].view(1, 1)\n",
        "    else:\n",
        "        #return torch.tensor([[patient.sample_action_idx()]], device=device, dtype=torch.long)\n",
        "        # select a random action in the action set list\n",
        "        return torch.tensor([[patient.action_space.sample()]], device=device, dtype=torch.long)\n",
        "\n",
        "episode_durations = []\n",
        "\n",
        "def plot_durations(show_result=False):\n",
        "    plt.figure(1)\n",
        "    durations_t = torch.tensor(episode_durations, dtype=torch.float)\n",
        "    if show_result:\n",
        "        plt.title('Result')\n",
        "    else:\n",
        "        plt.clf()\n",
        "        plt.title('Training...')\n",
        "    plt.xlabel('Episode')\n",
        "    plt.ylabel('Duration')\n",
        "    plt.plot(durations_t.numpy())\n",
        "    # Take 100 episode averages and plot them too\n",
        "    if len(durations_t) >= 100:\n",
        "        means = durations_t.unfold(0, 100, 1).mean(1).view(-1)\n",
        "        means = torch.cat((torch.zeros(99), means))\n",
        "        plt.plot(means.numpy())\n",
        "\n",
        "    plt.pause(0.001)  # pause a bit so that plots are updated\n",
        "    if is_ipython:\n",
        "        if not show_result:\n",
        "            display.display(plt.gcf())\n",
        "            display.clear_output(wait=True)\n",
        "        else:\n",
        "            display.display(plt.gcf())\n",
        "\n",
        "episode_qvalues = []\n",
        "\n",
        "def plot_q(show_result=False):\n",
        "    plt.figure(1)\n",
        "    q_values = torch.tensor(episode_qvalues, dtype=torch.float)\n",
        "    q_values = torch.log(q_values)\n",
        "    if show_result:\n",
        "        plt.title('Result')\n",
        "    else:\n",
        "        plt.clf()\n",
        "        plt.title('Training...')\n",
        "    plt.xlabel('Episode')\n",
        "    plt.ylabel('Q_value')\n",
        "    plt.plot(q_values.numpy())\n",
        "    # Take 100 episode averages and plot them too\n",
        "    if len(q_values) >= 100:\n",
        "        means = q_values.unfold(0, 100, 1).mean(1).view(-1)\n",
        "        means = torch.cat((torch.zeros(99), means))\n",
        "        plt.plot(means.numpy())\n",
        "\n",
        "    plt.pause(0.001)  # pause a bit so that plots are updated\n",
        "    if is_ipython:\n",
        "        if not show_result:\n",
        "            display.display(plt.gcf())\n",
        "            display.clear_output(wait=True)\n",
        "        else:\n",
        "            display.display(plt.gcf())"
      ]
    },
    {
      "cell_type": "code",
      "execution_count": 10,
      "metadata": {
        "id": "be4_zGKzpfs0"
      },
      "outputs": [],
      "source": [
        "def optimize_model():\n",
        "    if len(memory) < BATCH_SIZE:\n",
        "        return\n",
        "    transitions = memory.sample(BATCH_SIZE)\n",
        "    # Transpose the batch (see https://stackoverflow.com/a/19343/3343043 for\n",
        "    # detailed explanation). This converts batch-array of Transitions\n",
        "    # to Transition of batch-arrays.\n",
        "    batch = Transition(*zip(*transitions))\n",
        "\n",
        "    # Compute a mask of non-final states and concatenate the batch elements\n",
        "    # (a final state would've been the one after which simulation ended)\n",
        "    non_final_mask = torch.tensor(tuple(map(lambda s: s is not None,\n",
        "                                          batch.next_state)), device=device, dtype=torch.bool)\n",
        "    non_final_next_states = torch.cat([s for s in batch.next_state\n",
        "                                                if s is not None])\n",
        "    state_batch = torch.cat(batch.state)\n",
        "    action_batch = torch.cat(batch.action)\n",
        "    reward_batch = torch.cat(batch.reward)\n",
        "\n",
        "    # Compute Q(s_t, a) - the model computes Q(s_t), then we select the\n",
        "    # columns of actions taken. These are the actions which would've been taken\n",
        "    # for each batch state according to policy_net\n",
        "    state_action_values = policy_net(state_batch).gather(1, action_batch)\n",
        "\n",
        "    # Compute V(s_{t+1}) for all next states.\n",
        "    # Expected values of actions for non_final_next_states are computed based\n",
        "    # on the \"older\" target_net; selecting their best reward with max(1)[0].\n",
        "    # This is merged based on the mask, such that we'll have either the expected\n",
        "    # state value or 0 in case the state was final.\n",
        "    next_state_values = torch.zeros(BATCH_SIZE, device=device)\n",
        "    with torch.no_grad():\n",
        "        next_state_values[non_final_mask] = target_net(non_final_next_states).max(1)[0]\n",
        "    # Compute the expected Q values\n",
        "    expected_state_action_values = (next_state_values * GAMMA) + reward_batch\n",
        "\n",
        "    # Compute Huber loss\n",
        "    criterion = nn.SmoothL1Loss()\n",
        "    loss = criterion(state_action_values, expected_state_action_values.unsqueeze(1))\n",
        "\n",
        "    # Optimize the model\n",
        "    optimizer.zero_grad()\n",
        "    loss.backward()\n",
        "    # In-place gradient clipping\n",
        "    torch.nn.utils.clip_grad_value_(policy_net.parameters(), 100)\n",
        "    optimizer.step()"
      ]
    },
    {
      "cell_type": "code",
      "execution_count": 15,
      "metadata": {
        "colab": {
          "base_uri": "https://localhost:8080/",
          "height": 413
        },
        "id": "gfXNBq0jqszk",
        "outputId": "02be659a-73c8-49d1-bf2a-d7a8bd8bdc97"
      },
      "outputs": [
        {
          "name": "stdout",
          "output_type": "stream",
          "text": [
            "tensor([nan])\n",
            "tensor([nan])\n",
            "tensor([nan])\n",
            "tensor([nan])\n",
            "tensor([nan])\n",
            "tensor([nan])\n"
          ]
        },
        {
          "ename": "KeyboardInterrupt",
          "evalue": "",
          "output_type": "error",
          "traceback": [
            "\u001b[0;31m---------------------------------------------------------------------------\u001b[0m",
            "\u001b[0;31mKeyboardInterrupt\u001b[0m                         Traceback (most recent call last)",
            "Cell \u001b[0;32mIn [15], line 17\u001b[0m\n\u001b[1;32m     13\u001b[0m action \u001b[38;5;241m=\u001b[39m select_action(state)\n\u001b[1;32m     15\u001b[0m untensored_action \u001b[38;5;241m=\u001b[39m action\u001b[38;5;241m.\u001b[39mitem()\n\u001b[0;32m---> 17\u001b[0m observation, reward, terminated, truncated \u001b[38;5;241m=\u001b[39m \u001b[43mpatient\u001b[49m\u001b[38;5;241;43m.\u001b[39;49m\u001b[43mstep\u001b[49m\u001b[43m(\u001b[49m\u001b[43muntensored_action\u001b[49m\u001b[43m)\u001b[49m\n\u001b[1;32m     19\u001b[0m reward \u001b[38;5;241m=\u001b[39m torch\u001b[38;5;241m.\u001b[39mtensor([reward], device\u001b[38;5;241m=\u001b[39mdevice)\n\u001b[1;32m     20\u001b[0m \u001b[38;5;66;03m# done = terminated or truncated\u001b[39;00m\n\u001b[1;32m     21\u001b[0m \n\u001b[1;32m     22\u001b[0m \u001b[38;5;66;03m# if terminated:\u001b[39;00m\n\u001b[1;32m     23\u001b[0m \u001b[38;5;66;03m#     next_state = None\u001b[39;00m\n\u001b[1;32m     24\u001b[0m \u001b[38;5;66;03m# else:\u001b[39;00m\n",
            "File \u001b[0;32m~/Documents/GitHub/hiv_experiment/2023/DQN/hiv_patient_ray.py:178\u001b[0m, in \u001b[0;36mHIVPatientRay.step\u001b[0;34m(self, a_index)\u001b[0m\n\u001b[1;32m    176\u001b[0m state \u001b[39m=\u001b[39m \u001b[39mself\u001b[39m\u001b[39m.\u001b[39mstate()\n\u001b[1;32m    177\u001b[0m action \u001b[39m=\u001b[39m \u001b[39mself\u001b[39m\u001b[39m.\u001b[39maction_dict[a_index]\n\u001b[0;32m--> 178\u001b[0m state2 \u001b[39m=\u001b[39m \u001b[39mself\u001b[39;49m\u001b[39m.\u001b[39;49mtransition(state,action,\u001b[39m5\u001b[39;49m)\n\u001b[1;32m    179\u001b[0m rew \u001b[39m=\u001b[39m \u001b[39mself\u001b[39m\u001b[39m.\u001b[39mreward(state, action, state2)\n\u001b[1;32m    180\u001b[0m \u001b[39mif\u001b[39;00m(\u001b[39mself\u001b[39m\u001b[39m.\u001b[39mclipping):\n",
            "File \u001b[0;32m~/Documents/GitHub/hiv_experiment/2023/DQN/hiv_patient_ray.py:165\u001b[0m, in \u001b[0;36mHIVPatientRay.transition\u001b[0;34m(self, state, action, duration)\u001b[0m\n\u001b[1;32m    163\u001b[0m \u001b[39mfor\u001b[39;00m i \u001b[39min\u001b[39;00m \u001b[39mrange\u001b[39m(nb_steps):\n\u001b[1;32m    164\u001b[0m     state1 \u001b[39m=\u001b[39m state0 \u001b[39m+\u001b[39m \u001b[39mself\u001b[39m\u001b[39m.\u001b[39mder(state0,action)\u001b[39m*\u001b[39m\u001b[39m1e-3\u001b[39m\n\u001b[0;32m--> 165\u001b[0m     state0 \u001b[39m=\u001b[39m state1\n\u001b[1;32m    166\u001b[0m \u001b[39mreturn\u001b[39;00m state1\n",
            "\u001b[0;31mKeyboardInterrupt\u001b[0m: "
          ]
        }
      ],
      "source": [
        "num_steps = 400//5\n",
        "num_episodes = 100 #600\n",
        "clipping =False\n",
        "logscale = False\n",
        "\n",
        "patient = HIVPatientRay(clipping=clipping,logscale=logscale)\n",
        "\n",
        "for i_episode in range(num_episodes):\n",
        "    # Initialize the environment and get it's state\n",
        "    state_ini = patient.reset()\n",
        "    state = torch.tensor(state_ini, dtype=torch.float32, device=device).unsqueeze(0)\n",
        "    for t in count():\n",
        "        action = select_action(state)\n",
        "        \n",
        "        untensored_action = action.item()\n",
        "        \n",
        "        observation, reward, terminated, truncated = patient.step(untensored_action)\n",
        "        \n",
        "        reward = torch.tensor([reward], device=device)\n",
        "        # done = terminated or truncated\n",
        "\n",
        "        # if terminated:\n",
        "        #     next_state = None\n",
        "        # else:\n",
        "        next_state = torch.tensor(observation, dtype=torch.float32, device=device).unsqueeze(0)\n",
        "\n",
        "        # Store the transition in memory\n",
        "        memory.push(state, action, next_state, reward)\n",
        "\n",
        "        # Move to the next state\n",
        "        state = next_state\n",
        "\n",
        "        # Perform one step of the optimization (on the policy network)\n",
        "        optimize_model()\n",
        "\n",
        "        # Soft update of the target network's weights\n",
        "        # θ′ ← τ θ + (1 −τ )θ′\n",
        "        target_net_state_dict = target_net.state_dict()\n",
        "        policy_net_state_dict = policy_net.state_dict()\n",
        "        for key in policy_net_state_dict:\n",
        "            target_net_state_dict[key] = policy_net_state_dict[key]*TAU + target_net_state_dict[key]*(1-TAU)\n",
        "        target_net.load_state_dict(target_net_state_dict)\n",
        "\n",
        "        if t>num_steps:\n",
        "            state = torch.tensor(state_ini, dtype=torch.float32, device=device).unsqueeze(0)\n",
        "            q_value= target_net(state).max(1)[0].cpu().detach()\n",
        "            print(q_value)\n",
        "            episode_qvalues.append(q_value)\n",
        "            episode_durations.append(t + 1)\n",
        "            #plot_q()\n",
        "            break\n",
        "\n",
        "print('Complete')\n",
        "plot_q(show_result=True)\n",
        "plt.ioff()\n",
        "plt.show()"
      ]
    },
    {
      "cell_type": "code",
      "execution_count": null,
      "metadata": {
        "id": "x5ag3G_PuAke"
      },
      "outputs": [],
      "source": [
        "s = patient.reset()\n",
        "states = [s]\n",
        "for i in range(num_steps):\n",
        "    s = torch.Tensor([states[-1]]).to(device)\n",
        "    action = policy_net(s).max(1)[1].view(1, 1)\n",
        "    observation, reward, terminated, truncated = patient.step(action)\n",
        "    states.append(observation)\n",
        "\n",
        "s = patient.reset()\n",
        "states_free = [s]\n",
        "for i in range(num_steps):\n",
        "    s1 = s + patient.der(s,patient.action_set[0])*1e-3\n",
        "    s = s1\n",
        "    states_free.append(s)"
      ]
    },
    {
      "cell_type": "code",
      "execution_count": null,
      "metadata": {
        "id": "MUQAva-wqTe3"
      },
      "outputs": [],
      "source": [
        "fig, axs = plt.subplots(2, 3, figsize=(15, 15))\n",
        "npst = np.array(states)\n",
        "npst_free = np.array(states_free)\n",
        "axs[0,0].plot(npst[:,0])\n",
        "axs[0,0].plot(npst_free[:,0])\n",
        "axs[0,0].set_title(\"T1\")\n",
        "axs[0,1].plot(npst[:,1])\n",
        "axs[0,1].plot(npst_free[:,1])\n",
        "axs[0,1].set_title(\"T1*\")\n",
        "axs[0,2].plot(npst[:,2])\n",
        "axs[0,2].plot(npst_free[:,2])\n",
        "axs[0,2].set_title(\"T2\")\n",
        "axs[1,0].plot(npst[:,3])\n",
        "axs[1,0].plot(npst_free[:,3])\n",
        "axs[1,0].set_title(\"T2*\")\n",
        "axs[1,1].plot(npst[:,4])\n",
        "axs[1,1].plot(npst_free[:,4])\n",
        "axs[1,1].set_title(\"V\")\n",
        "axs[1,2].plot(npst[:,5])\n",
        "axs[1,2].plot(npst_free[:,5])\n",
        "axs[1,2].set_title(\"E\")"
      ]
    },
    {
      "cell_type": "code",
      "execution_count": null,
      "metadata": {
        "id": "FPoy7XW3sZIy"
      },
      "outputs": [],
      "source": []
    }
  ],
  "metadata": {
    "accelerator": "GPU",
    "colab": {
      "provenance": []
    },
    "gpuClass": "standard",
    "kernelspec": {
      "display_name": "Python 3.10.6 64-bit",
      "language": "python",
      "name": "python3"
    },
    "language_info": {
      "codemirror_mode": {
        "name": "ipython",
        "version": 3
      },
      "file_extension": ".py",
      "mimetype": "text/x-python",
      "name": "python",
      "nbconvert_exporter": "python",
      "pygments_lexer": "ipython3",
      "version": "3.10.6"
    },
    "vscode": {
      "interpreter": {
        "hash": "b0fa6594d8f4cbf19f97940f81e996739fb7646882a419484c72d19e05852a7e"
      }
    }
  },
  "nbformat": 4,
  "nbformat_minor": 0
}
