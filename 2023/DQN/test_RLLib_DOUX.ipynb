{
 "cells": [
  {
   "cell_type": "code",
   "execution_count": null,
   "metadata": {},
   "outputs": [],
   "source": [
    "# !pip install -U \"ray[rllib] @ https://s3-us-west-2.amazonaws.com/ray-wheels/latest/ray-3.0.0.dev0-cp310-cp310-macosx_10_15_universal2.whl\""
   ]
  },
  {
   "cell_type": "code",
   "execution_count": null,
   "metadata": {},
   "outputs": [],
   "source": [
    "# from google.colab import drive\n",
    "# drive.mount('/content/drive')\n",
    "# from drive.MyDrive.RLindepth.hiv_patient import HIVPatient"
   ]
  },
  {
   "cell_type": "code",
   "execution_count": 2,
   "metadata": {},
   "outputs": [],
   "source": [
    "# imports\n",
    "import random\n",
    "import math\n",
    "from itertools import count\n",
    "from collections import namedtuple, deque\n",
    "\n",
    "import matplotlib\n",
    "import matplotlib.pyplot as plt\n",
    "import numpy as np\n",
    "\n",
    "import sys\n",
    "#sys.path.append('../../')\n",
    "from hiv_patient_ray import HIVPatientRay\n",
    "import ray\n",
    "from ray.rllib.algorithms.dqn import DQN\n",
    "from ray.rllib.algorithms.dqn import DQNConfig\n",
    "\n",
    "# import AlgorithmConfig\n",
    "from ray.rllib.algorithms.algorithm import AlgorithmConfig\n",
    "\n",
    "from ray.tune.logger import pretty_print\n",
    "import torch"
   ]
  },
  {
   "cell_type": "code",
   "execution_count": 3,
   "metadata": {},
   "outputs": [
    {
     "name": "stdout",
     "output_type": "stream",
     "text": [
      "CUDA is not available\n",
      "1.13.1\n"
     ]
    }
   ],
   "source": [
    "\n",
    "if torch.cuda.is_available():\n",
    "    print(\"CUDA is available\")\n",
    "else:\n",
    "    print(\"CUDA is not available\")\n",
    "\n",
    "print(torch.__version__)"
   ]
  },
  {
   "cell_type": "code",
   "execution_count": 5,
   "metadata": {},
   "outputs": [
    {
     "name": "stdout",
     "output_type": "stream",
     "text": [
      "Usage stats collection is enabled by default for nightly wheels. To disable this, run the following command: `ray disable-usage-stats` before starting Ray. See https://docs.ray.io/en/master/cluster/usage-stats.html for more details.\n"
     ]
    },
    {
     "name": "stderr",
     "output_type": "stream",
     "text": [
      "2023-03-20 13:57:39,813\tINFO worker.py:1559 -- Started a local Ray instance.\n"
     ]
    },
    {
     "data": {
      "text/html": [
       "<div>\n",
       "    <div style=\"margin-left: 50px;display: flex;flex-direction: row;align-items: center\">\n",
       "        <h3 style=\"color: var(--jp-ui-font-color0)\">Ray</h3>\n",
       "        <svg version=\"1.1\" id=\"ray\" width=\"3em\" viewBox=\"0 0 144.5 144.6\" style=\"margin-left: 3em;margin-right: 3em\">\n",
       "            <g id=\"layer-1\">\n",
       "                <path fill=\"#00a2e9\" class=\"st0\" d=\"M97.3,77.2c-3.8-1.1-6.2,0.9-8.3,5.1c-3.5,6.8-9.9,9.9-17.4,9.6S58,88.1,54.8,81.2c-1.4-3-3-4-6.3-4.1\n",
       "                    c-5.6-0.1-9.9,0.1-13.1,6.4c-3.8,7.6-13.6,10.2-21.8,7.6C5.2,88.4-0.4,80.5,0,71.7c0.1-8.4,5.7-15.8,13.8-18.2\n",
       "                    c8.4-2.6,17.5,0.7,22.3,8c1.3,1.9,1.3,5.2,3.6,5.6c3.9,0.6,8,0.2,12,0.2c1.8,0,1.9-1.6,2.4-2.8c3.5-7.8,9.7-11.8,18-11.9\n",
       "                    c8.2-0.1,14.4,3.9,17.8,11.4c1.3,2.8,2.9,3.6,5.7,3.3c1-0.1,2,0.1,3,0c2.8-0.5,6.4,1.7,8.1-2.7s-2.3-5.5-4.1-7.5\n",
       "                    c-5.1-5.7-10.9-10.8-16.1-16.3C84,38,81.9,37.1,78,38.3C66.7,42,56.2,35.7,53,24.1C50.3,14,57.3,2.8,67.7,0.5\n",
       "                    C78.4-2,89,4.7,91.5,15.3c0.1,0.3,0.1,0.5,0.2,0.8c0.7,3.4,0.7,6.9-0.8,9.8c-1.7,3.2-0.8,5,1.5,7.2c6.7,6.5,13.3,13,19.8,19.7\n",
       "                    c1.8,1.8,3,2.1,5.5,1.2c9.1-3.4,17.9-0.6,23.4,7c4.8,6.9,4.6,16.1-0.4,22.9c-5.4,7.2-14.2,9.9-23.1,6.5c-2.3-0.9-3.5-0.6-5.1,1.1\n",
       "                    c-6.7,6.9-13.6,13.7-20.5,20.4c-1.8,1.8-2.5,3.2-1.4,5.9c3.5,8.7,0.3,18.6-7.7,23.6c-7.9,5-18.2,3.8-24.8-2.9\n",
       "                    c-6.4-6.4-7.4-16.2-2.5-24.3c4.9-7.8,14.5-11,23.1-7.8c3,1.1,4.7,0.5,6.9-1.7C91.7,98.4,98,92.3,104.2,86c1.6-1.6,4.1-2.7,2.6-6.2\n",
       "                    c-1.4-3.3-3.8-2.5-6.2-2.6C99.8,77.2,98.9,77.2,97.3,77.2z M72.1,29.7c5.5,0.1,9.9-4.3,10-9.8c0-0.1,0-0.2,0-0.3\n",
       "                    C81.8,14,77,9.8,71.5,10.2c-5,0.3-9,4.2-9.3,9.2c-0.2,5.5,4,10.1,9.5,10.3C71.8,29.7,72,29.7,72.1,29.7z M72.3,62.3\n",
       "                    c-5.4-0.1-9.9,4.2-10.1,9.7c0,0.2,0,0.3,0,0.5c0.2,5.4,4.5,9.7,9.9,10c5.1,0.1,9.9-4.7,10.1-9.8c0.2-5.5-4-10-9.5-10.3\n",
       "                    C72.6,62.3,72.4,62.3,72.3,62.3z M115,72.5c0.1,5.4,4.5,9.7,9.8,9.9c5.6-0.2,10-4.8,10-10.4c-0.2-5.4-4.6-9.7-10-9.7\n",
       "                    c-5.3-0.1-9.8,4.2-9.9,9.5C115,72.1,115,72.3,115,72.5z M19.5,62.3c-5.4,0.1-9.8,4.4-10,9.8c-0.1,5.1,5.2,10.4,10.2,10.3\n",
       "                    c5.6-0.2,10-4.9,9.8-10.5c-0.1-5.4-4.5-9.7-9.9-9.6C19.6,62.3,19.5,62.3,19.5,62.3z M71.8,134.6c5.9,0.2,10.3-3.9,10.4-9.6\n",
       "                    c0.5-5.5-3.6-10.4-9.1-10.8c-5.5-0.5-10.4,3.6-10.8,9.1c0,0.5,0,0.9,0,1.4c-0.2,5.3,4,9.8,9.3,10\n",
       "                    C71.6,134.6,71.7,134.6,71.8,134.6z\"/>\n",
       "            </g>\n",
       "        </svg>\n",
       "        <table>\n",
       "            <tr>\n",
       "                <td style=\"text-align: left\"><b>Python version:</b></td>\n",
       "                <td style=\"text-align: left\"><b>3.9.16</b></td>\n",
       "            </tr>\n",
       "            <tr>\n",
       "                <td style=\"text-align: left\"><b>Ray version:</b></td>\n",
       "                <td style=\"text-align: left\"><b> 3.0.0.dev0</b></td>\n",
       "            </tr>\n",
       "            \n",
       "        </table>\n",
       "    </div>\n",
       "</div>\n"
      ],
      "text/plain": [
       "RayContext(dashboard_url='', python_version='3.9.16', ray_version='3.0.0.dev0', ray_commit='51569e61b631ac381df5e33337927709b664cff6', address_info={'node_ip_address': '127.0.0.1', 'raylet_ip_address': '127.0.0.1', 'redis_address': None, 'object_store_address': '/tmp/ray/session_2023-03-20_13-57-36_627041_3795/sockets/plasma_store', 'raylet_socket_name': '/tmp/ray/session_2023-03-20_13-57-36_627041_3795/sockets/raylet', 'webui_url': '', 'session_dir': '/tmp/ray/session_2023-03-20_13-57-36_627041_3795', 'metrics_export_port': 64793, 'gcs_address': '127.0.0.1:64306', 'address': '127.0.0.1:64306', 'dashboard_agent_listen_port': 52365, 'node_id': 'c41d5c4812fc2e2f506a9133a51acbd5f0b4662239dc0a143d549a11'})"
      ]
     },
     "execution_count": 5,
     "metadata": {},
     "output_type": "execute_result"
    }
   ],
   "source": [
    "ray.init()"
   ]
  },
  {
   "cell_type": "code",
   "execution_count": 10,
   "metadata": {},
   "outputs": [
    {
     "ename": "ImportError",
     "evalue": "TensorFlow was specified as the framework to use (via `config.framework([tf|tf2])`)! However, no installation was found. You can install TensorFlow via `pip install tensorflow`",
     "output_type": "error",
     "traceback": [
      "\u001b[0;31m---------------------------------------------------------------------------\u001b[0m",
      "\u001b[0;31mImportError\u001b[0m                               Traceback (most recent call last)",
      "Cell \u001b[0;32mIn[10], line 18\u001b[0m\n\u001b[1;32m     15\u001b[0m env \u001b[38;5;241m=\u001b[39m HIVPatientRay()\n\u001b[1;32m     17\u001b[0m \u001b[38;5;66;03m# Define the agent with pytorch framework\u001b[39;00m\n\u001b[0;32m---> 18\u001b[0m patient \u001b[38;5;241m=\u001b[39m \u001b[43mDQN\u001b[49m\u001b[43m(\u001b[49m\u001b[43m)\u001b[49m\n",
      "File \u001b[0;32m/opt/homebrew/Caskroom/miniforge/base/envs/rosetta/lib/python3.9/site-packages/ray/rllib/algorithms/algorithm.py:367\u001b[0m, in \u001b[0;36mAlgorithm.__init__\u001b[0;34m(self, config, env, logger_creator, **kwargs)\u001b[0m\n\u001b[1;32m    364\u001b[0m     config\u001b[39m.\u001b[39menvironment(env)\n\u001b[1;32m    366\u001b[0m \u001b[39m# Validate and freeze our AlgorithmConfig object (no more changes possible).\u001b[39;00m\n\u001b[0;32m--> 367\u001b[0m config\u001b[39m.\u001b[39;49mvalidate()\n\u001b[1;32m    368\u001b[0m config\u001b[39m.\u001b[39mfreeze()\n\u001b[1;32m    370\u001b[0m \u001b[39m# Convert `env` provided in config into a concrete env creator callable, which\u001b[39;00m\n\u001b[1;32m    371\u001b[0m \u001b[39m# takes an EnvContext (config dict) as arg and returning an RLlib supported Env\u001b[39;00m\n\u001b[1;32m    372\u001b[0m \u001b[39m# type (e.g. a gym.Env).\u001b[39;00m\n",
      "File \u001b[0;32m/opt/homebrew/Caskroom/miniforge/base/envs/rosetta/lib/python3.9/site-packages/ray/rllib/algorithms/dqn/dqn.py:302\u001b[0m, in \u001b[0;36mDQNConfig.validate\u001b[0;34m(self)\u001b[0m\n\u001b[1;32m    299\u001b[0m \u001b[39m@override\u001b[39m(SimpleQConfig)\n\u001b[1;32m    300\u001b[0m \u001b[39mdef\u001b[39;00m \u001b[39mvalidate\u001b[39m(\u001b[39mself\u001b[39m) \u001b[39m-\u001b[39m\u001b[39m>\u001b[39m \u001b[39mNone\u001b[39;00m:\n\u001b[1;32m    301\u001b[0m     \u001b[39m# Call super's validation method.\u001b[39;00m\n\u001b[0;32m--> 302\u001b[0m     \u001b[39msuper\u001b[39;49m()\u001b[39m.\u001b[39;49mvalidate()\n\u001b[1;32m    304\u001b[0m     \u001b[39mif\u001b[39;00m \u001b[39mself\u001b[39m\u001b[39m.\u001b[39mtd_error_loss_fn \u001b[39mnot\u001b[39;00m \u001b[39min\u001b[39;00m [\u001b[39m\"\u001b[39m\u001b[39mhuber\u001b[39m\u001b[39m\"\u001b[39m, \u001b[39m\"\u001b[39m\u001b[39mmse\u001b[39m\u001b[39m\"\u001b[39m]:\n\u001b[1;32m    305\u001b[0m         \u001b[39mraise\u001b[39;00m \u001b[39mValueError\u001b[39;00m(\u001b[39m\"\u001b[39m\u001b[39m`td_error_loss_fn` must be \u001b[39m\u001b[39m'\u001b[39m\u001b[39mhuber\u001b[39m\u001b[39m'\u001b[39m\u001b[39m or \u001b[39m\u001b[39m'\u001b[39m\u001b[39mmse\u001b[39m\u001b[39m'\u001b[39m\u001b[39m!\u001b[39m\u001b[39m\"\u001b[39m)\n",
      "File \u001b[0;32m/opt/homebrew/Caskroom/miniforge/base/envs/rosetta/lib/python3.9/site-packages/ray/rllib/algorithms/simple_q/simple_q.py:267\u001b[0m, in \u001b[0;36mSimpleQConfig.validate\u001b[0;34m(self)\u001b[0m\n\u001b[1;32m    264\u001b[0m \u001b[39m@override\u001b[39m(AlgorithmConfig)\n\u001b[1;32m    265\u001b[0m \u001b[39mdef\u001b[39;00m \u001b[39mvalidate\u001b[39m(\u001b[39mself\u001b[39m) \u001b[39m-\u001b[39m\u001b[39m>\u001b[39m \u001b[39mNone\u001b[39;00m:\n\u001b[1;32m    266\u001b[0m     \u001b[39m# Call super's validation method.\u001b[39;00m\n\u001b[0;32m--> 267\u001b[0m     \u001b[39msuper\u001b[39;49m()\u001b[39m.\u001b[39;49mvalidate()\n\u001b[1;32m    269\u001b[0m     \u001b[39mif\u001b[39;00m \u001b[39mself\u001b[39m\u001b[39m.\u001b[39mexploration_config[\u001b[39m\"\u001b[39m\u001b[39mtype\u001b[39m\u001b[39m\"\u001b[39m] \u001b[39m==\u001b[39m \u001b[39m\"\u001b[39m\u001b[39mParameterNoise\u001b[39m\u001b[39m\"\u001b[39m:\n\u001b[1;32m    270\u001b[0m         \u001b[39mif\u001b[39;00m \u001b[39mself\u001b[39m\u001b[39m.\u001b[39mbatch_mode \u001b[39m!=\u001b[39m \u001b[39m\"\u001b[39m\u001b[39mcomplete_episodes\u001b[39m\u001b[39m\"\u001b[39m:\n",
      "File \u001b[0;32m/opt/homebrew/Caskroom/miniforge/base/envs/rosetta/lib/python3.9/site-packages/ray/rllib/algorithms/algorithm_config.py:732\u001b[0m, in \u001b[0;36mAlgorithmConfig.validate\u001b[0;34m(self)\u001b[0m\n\u001b[1;32m    729\u001b[0m \u001b[39melse\u001b[39;00m:\n\u001b[1;32m    730\u001b[0m     _torch, _ \u001b[39m=\u001b[39m try_import_torch()\n\u001b[0;32m--> 732\u001b[0m \u001b[39mself\u001b[39;49m\u001b[39m.\u001b[39;49m_check_if_correct_nn_framework_installed(_tf1, _tf, _torch)\n\u001b[1;32m    733\u001b[0m \u001b[39mself\u001b[39m\u001b[39m.\u001b[39m_resolve_tf_settings(_tf1, _tfv)\n\u001b[1;32m    735\u001b[0m \u001b[39m# Check `policies_to_train` for invalid entries.\u001b[39;00m\n",
      "File \u001b[0;32m/opt/homebrew/Caskroom/miniforge/base/envs/rosetta/lib/python3.9/site-packages/ray/rllib/algorithms/algorithm_config.py:3174\u001b[0m, in \u001b[0;36mAlgorithmConfig._check_if_correct_nn_framework_installed\u001b[0;34m(self, _tf1, _tf, _torch)\u001b[0m\n\u001b[1;32m   3172\u001b[0m \u001b[39mif\u001b[39;00m \u001b[39mself\u001b[39m\u001b[39m.\u001b[39mframework_str \u001b[39min\u001b[39;00m {\u001b[39m\"\u001b[39m\u001b[39mtf\u001b[39m\u001b[39m\"\u001b[39m, \u001b[39m\"\u001b[39m\u001b[39mtf2\u001b[39m\u001b[39m\"\u001b[39m}:\n\u001b[1;32m   3173\u001b[0m     \u001b[39mif\u001b[39;00m \u001b[39mnot\u001b[39;00m (_tf1 \u001b[39mor\u001b[39;00m _tf):\n\u001b[0;32m-> 3174\u001b[0m         \u001b[39mraise\u001b[39;00m \u001b[39mImportError\u001b[39;00m(\n\u001b[1;32m   3175\u001b[0m             (\n\u001b[1;32m   3176\u001b[0m                 \u001b[39m\"\u001b[39m\u001b[39mTensorFlow was specified as the framework to use (via `config.\u001b[39m\u001b[39m\"\u001b[39m\n\u001b[1;32m   3177\u001b[0m                 \u001b[39m\"\u001b[39m\u001b[39mframework([tf|tf2])`)! However, no installation was \u001b[39m\u001b[39m\"\u001b[39m\n\u001b[1;32m   3178\u001b[0m                 \u001b[39m\"\u001b[39m\u001b[39mfound. You can install TensorFlow via `pip install tensorflow`\u001b[39m\u001b[39m\"\u001b[39m\n\u001b[1;32m   3179\u001b[0m             )\n\u001b[1;32m   3180\u001b[0m         )\n\u001b[1;32m   3181\u001b[0m \u001b[39melif\u001b[39;00m \u001b[39mself\u001b[39m\u001b[39m.\u001b[39mframework_str \u001b[39m==\u001b[39m \u001b[39m\"\u001b[39m\u001b[39mtorch\u001b[39m\u001b[39m\"\u001b[39m:\n\u001b[1;32m   3182\u001b[0m     \u001b[39mif\u001b[39;00m \u001b[39mnot\u001b[39;00m _torch:\n",
      "\u001b[0;31mImportError\u001b[0m: TensorFlow was specified as the framework to use (via `config.framework([tf|tf2])`)! However, no installation was found. You can install TensorFlow via `pip install tensorflow`"
     ]
    }
   ],
   "source": [
    "# Define config for DQN with env HIVPatientRay\n",
    "config = DQNConfig()\n",
    "\n",
    "\n",
    "# set env to HIVPatientRay\n",
    "config[\"env\"] = \"HIVPatientRay\"\n",
    "\n",
    "config[\"framework\"] = \"torch\"\n",
    "\n",
    "config[\"framework_str\"] = \"torch\"\n",
    "\n",
    "\n",
    "# print(config._check_if_correct_nn_framework_installed(_tf=True, _tf1=False, _torch=False))\n",
    "\n",
    "# Define the environment\n",
    "env = HIVPatientRay()\n",
    "\n",
    "# Define the agent with pytorch framework\n",
    "patient = DQN()\n"
   ]
  },
  {
   "cell_type": "code",
   "execution_count": 7,
   "metadata": {},
   "outputs": [],
   "source": [
    "import torch"
   ]
  },
  {
   "cell_type": "code",
   "execution_count": null,
   "metadata": {},
   "outputs": [],
   "source": [
    "# Initialize Ray\n",
    "ray.init( num_gpus=1)"
   ]
  },
  {
   "cell_type": "code",
   "execution_count": 6,
   "metadata": {},
   "outputs": [],
   "source": [
    "ray.shutdown()"
   ]
  }
 ],
 "metadata": {
  "kernelspec": {
   "display_name": "Python 3.9.16 ('rosetta')",
   "language": "python",
   "name": "python3"
  },
  "language_info": {
   "codemirror_mode": {
    "name": "ipython",
    "version": 3
   },
   "file_extension": ".py",
   "mimetype": "text/x-python",
   "name": "python",
   "nbconvert_exporter": "python",
   "pygments_lexer": "ipython3",
   "version": "3.9.16"
  },
  "orig_nbformat": 4,
  "vscode": {
   "interpreter": {
    "hash": "15971131ed849772ea4efcd02d5d833e7c80be0ef6f70a201e7990bdbbb1bdad"
   }
  }
 },
 "nbformat": 4,
 "nbformat_minor": 2
}
