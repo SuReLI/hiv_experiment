{
 "cells": [
  {
   "cell_type": "code",
   "execution_count": null,
   "metadata": {},
   "outputs": [],
   "source": [
    "# !pip install -U \"ray[rllib] @ https://s3-us-west-2.amazonaws.com/ray-wheels/latest/ray-3.0.0.dev0-cp310-cp310-macosx_10_15_universal2.whl\""
   ]
  },
  {
   "cell_type": "code",
   "execution_count": null,
   "metadata": {},
   "outputs": [],
   "source": [
    "# from google.colab import drive\n",
    "# drive.mount('/content/drive')\n",
    "# from drive.MyDrive.RLindepth.hiv_patient import HIVPatient"
   ]
  },
  {
   "cell_type": "code",
   "execution_count": 1,
   "metadata": {},
   "outputs": [],
   "source": [
    "# imports\n",
    "import math\n",
    "import random\n",
    "import sys\n",
    "from collections import deque, namedtuple\n",
    "from itertools import count\n",
    "\n",
    "import matplotlib\n",
    "import matplotlib.pyplot as plt\n",
    "import numpy as np\n",
    "import ray\n",
    "import torch\n",
    "# import AlgorithmConfig\n",
    "from ray.rllib.algorithms.algorithm import AlgorithmConfig\n",
    "from ray.rllib.algorithms.dqn import DQN, DQNConfig\n",
    "from ray.tune.logger import pretty_print\n",
    "\n",
    "sys.path.append('../..')\n",
    "\n",
    "from hiv_patient_gym import HIVPatientGym"
   ]
  },
  {
   "cell_type": "code",
   "execution_count": 2,
   "metadata": {},
   "outputs": [
    {
     "name": "stdout",
     "output_type": "stream",
     "text": [
      "MPS is available\n",
      "device=device(type='cpu')\n",
      "1.13.1\n"
     ]
    }
   ],
   "source": [
    "device: torch.device = torch.device(\"cpu\")\n",
    "\n",
    "if torch.cuda.is_available():\n",
    "    print(\"CUDA is available\")\n",
    "    device = torch.device(\"cuda\")\n",
    "elif torch.backends.mps.is_available():\n",
    "    print(\"MPS is available\")\n",
    "    device = torch.device(\"cpu\")\n",
    "else:\n",
    "    print(\"CUDA is not available\")\n",
    "    device = torch.device(\"cpu\")\n",
    "\n",
    "print(f\"{device=}\")\n",
    "print(torch.__version__)\n"
   ]
  },
  {
   "cell_type": "code",
   "execution_count": 4,
   "metadata": {},
   "outputs": [
    {
     "name": "stderr",
     "output_type": "stream",
     "text": [
      "2023-03-20 14:47:58,395\tINFO worker.py:1553 -- Started a local Ray instance.\n",
      "2023-03-20 14:47:59,129\tWARNING utils.py:161 -- `config.auto_wrap_old_gym_envs` is activated AND you seem to have provided an old gym-API environment. RLlib will therefore try to auto-fix the following error. However, please consider switching over to the new `gymnasium` APIs:\n",
      "Your environment ({}) does not abide to the new gymnasium-style API!\n",
      "From Ray 2.3 on, RLlib only supports the new (gym>=0.26 or gymnasium) Env APIs.\n",
      "{}\n",
      "Learn more about the most important changes here:\n",
      "https://github.com/openai/gym and here: https://github.com/Farama-Foundation/Gymnasium\n",
      "\n",
      "In order to fix this problem, do the following:\n",
      "\n",
      "1) Run `pip install gymnasium` on your command line.\n",
      "2) Change all your import statements in your code from\n",
      "   `import gym` -> `import gymnasium as gym` OR\n",
      "   `from gym.space import Discrete` -> `from gymnasium.spaces import Discrete`\n",
      "\n",
      "For your custom (single agent) gym.Env classes:\n",
      "3.1) Either wrap your old Env class via the provided `from gymnasium.wrappers import\n",
      "     EnvCompatibility` wrapper class.\n",
      "3.2) Alternatively to 3.1:\n",
      " - Change your `reset()` method to have the call signature 'def reset(self, *,\n",
      "   seed=None, options=None)'\n",
      " - Return an additional info dict (empty dict should be fine) from your `reset()`\n",
      "   method.\n",
      " - Return an additional `truncated` flag from your `step()` method (between `done` and\n",
      "   `info`). This flag should indicate, whether the episode was terminated prematurely\n",
      "   due to some time constraint or other kind of horizon setting.\n",
      "\n",
      "For your custom RLlib `MultiAgentEnv` classes:\n",
      "4.1) Either wrap your old MultiAgentEnv via the provided\n",
      "     `from ray.rllib.env.wrappers.multi_agent_env_compatibility import\n",
      "     MultiAgentEnvCompatibility` wrapper class.\n",
      "4.2) Alternatively to 4.1:\n",
      " - Change your `reset()` method to have the call signature\n",
      "   'def reset(self, *, seed=None, options=None)'\n",
      " - Return an additional per-agent info dict (empty dict should be fine) from your\n",
      "   `reset()` method.\n",
      " - Rename `dones` into `terminateds` and only set this to True, if the episode is really\n",
      "   done (as opposed to has been terminated prematurely due to some horizon/time-limit\n",
      "   setting).\n",
      " - Return an additional `truncateds` per-agent dictionary flag from your `step()`\n",
      "   method, including the `__all__` key (100% analogous to your `dones/terminateds`\n",
      "   per-agent dict).\n",
      "   Return this new `truncateds` dict between `dones/terminateds` and `infos`. This\n",
      "   flag should indicate, whether the episode (for some agent or all agents) was\n",
      "   terminated prematurely due to some time constraint or other kind of horizon setting.\n",
      "\n",
      "2023-03-20 14:47:59,130\tWARNING env.py:156 -- Your env doesn't have a .spec.max_episode_steps attribute. Your horizon will default to infinity, and your environment will not be reset.\n",
      "2023-03-20 14:47:59,130\tWARNING env.py:166 -- Your env reset() method appears to take 'seed' or 'return_info' arguments. Note that these are not yet supported in RLlib. Seeding will take place using 'env.seed()' and the info dict will not be returned from reset.\n",
      "2023-03-20 14:47:59,200\tWARNING util.py:67 -- Install gputil for GPU system monitoring.\n"
     ]
    }
   ],
   "source": [
    "# Define config for DQN with env HIVPatientRay\n",
    "config = DQNConfig()\n",
    "\n",
    "\n",
    "# set env to HIVPatientRay\n",
    "# config[\"env\"] = \"HIVPatientRay\"\n",
    "\n",
    "# config.env = \"HIVPatientRay\"\n",
    "\n",
    "config.environment(HIVPatientGym)\n",
    "\n",
    "# configure ray to use pytorch\n",
    "# config[\"framework\"] = \"torch\"\n",
    "\n",
    "config.framework(\"torch\")\n",
    "\n",
    "# print(config._check_if_correct_nn_framework_installed(_tf=True, _tf1=False, _torch=False))\n",
    "\n",
    "# Define the environment\n",
    "# env = HIVPatientGym()\n",
    "\n",
    "# Define the agent with pytorch framework\n",
    "patient = DQN(config=config)\n"
   ]
  },
  {
   "cell_type": "code",
   "execution_count": 7,
   "metadata": {},
   "outputs": [],
   "source": [
    "import torch"
   ]
  },
  {
   "cell_type": "code",
   "execution_count": null,
   "metadata": {},
   "outputs": [],
   "source": [
    "# Initialize Ray\n",
    "ray.init( num_gpus=1)"
   ]
  },
  {
   "cell_type": "code",
   "execution_count": 6,
   "metadata": {},
   "outputs": [],
   "source": [
    "ray.shutdown()"
   ]
  }
 ],
 "metadata": {
  "kernelspec": {
   "display_name": "Python 3.9.16 ('rosetta')",
   "language": "python",
   "name": "python3"
  },
  "language_info": {
   "codemirror_mode": {
    "name": "ipython",
    "version": 3
   },
   "file_extension": ".py",
   "mimetype": "text/x-python",
   "name": "python",
   "nbconvert_exporter": "python",
   "pygments_lexer": "ipython3",
   "version": "3.10.9"
  },
  "orig_nbformat": 4,
  "vscode": {
   "interpreter": {
    "hash": "15971131ed849772ea4efcd02d5d833e7c80be0ef6f70a201e7990bdbbb1bdad"
   }
  }
 },
 "nbformat": 4,
 "nbformat_minor": 2
}
